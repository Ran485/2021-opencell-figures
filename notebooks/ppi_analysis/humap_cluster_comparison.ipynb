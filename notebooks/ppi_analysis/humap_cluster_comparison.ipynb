{
 "cells": [
  {
   "cell_type": "markdown",
   "metadata": {},
   "source": [
    "## Calculate F1 scores to optimize MCL clustering\n",
    "\n",
    "This notebook generates the curve of F1 score vs the MCL inflation parameter. See Figure S4I. \n",
    "\n",
    "This notebook depends on the `complex_comparison.py` script from Drew et al., 2017. This script is copied in this repo in `scripts/external/`."
   ]
  },
  {
   "cell_type": "code",
   "execution_count": 1,
   "metadata": {},
   "outputs": [],
   "source": [
    "import pandas as pd\n",
    "import numpy as np\n",
    "import matplotlib.pyplot as plt\n",
    "import sys\n",
    "\n",
    "sys.path.append('../../scripts/external/')\n",
    "import complex_comparison as cc\n",
    "\n",
    "sys.path.append('../../scripts/interactome_markov_clustering')\n",
    "%matplotlib inline"
   ]
  },
  {
   "cell_type": "markdown",
   "metadata": {},
   "source": [
    "### Load the 'gold standard' reference\n",
    "The complex comparison script by Drew et al., 2017 requires a list of gold standard complexes (i.e., clusters). Following Drew et al., we use CORUM complexes as our gold standard. We also use the Jaccard distance between complexes to combine complexes that have a high number of mutual members. This pre-computed list of CORUM complexes is saved as `'processed_human_corum.csv'`."
   ]
  },
  {
   "cell_type": "code",
   "execution_count": 2,
   "metadata": {},
   "outputs": [],
   "source": [
    "root = '../../data/ppi_analysis/clust_scoring/'\n",
    "external_root = '../../data/external/'\n",
    "\n",
    "corums = pd.read_csv(external_root + 'processed_human_corum.csv', index_col=0)\n",
    "standard = corums.groupby('complex')['gene_names'].apply(list).to_list()"
   ]
  },
  {
   "cell_type": "markdown",
   "metadata": {},
   "source": [
    "### Calculate the grand F1 scores\n",
    "Here we calculate the grand F1 scores and standard deviations (because grand F1 score is computed on a sampling) for both clusters based on stoichiometric edges and those that have no edge weights. This is done for MCL inflation parameters from 1-7. "
   ]
  },
  {
   "cell_type": "code",
   "execution_count": null,
   "metadata": {},
   "outputs": [],
   "source": [
    "clust_means, clust_stds, no_clust_means, no_clust_stds = [],[],[],[]\n",
    "\n",
    "# iterate through computed MCL inflation parameters\n",
    "for ind in map(str, np.arange(1,8)):\n",
    "\n",
    "    # update the iteration counter\n",
    "    sys.stdout.write(\"\\r{}\".format(ind))\n",
    "\n",
    "    # Open cluster files based on stoichiometric edges and no stoichiometry\n",
    "    clust_name = 'stoich_clustering_mcl_i%s.0.csv' % ind\n",
    "    no_clust_name = 'no_%s' % clust_name\n",
    "    \n",
    "    clust = pd.read_csv(root + clust_name)\n",
    "    no_clust = pd.read_csv(root + no_clust_name)\n",
    "\n",
    "    # save all clusters in a list\n",
    "    clust_grouped = pd.DataFrame(clust.groupby('super_cluster')['gene_names'].apply(list))\n",
    "    clusts = clust_grouped['gene_names'].to_list()\n",
    "\n",
    "    # repeat for no-stoichiometry computed clusters\n",
    "    no_clust_grouped = pd.DataFrame(no_clust.groupby('super_cluster')['gene_names'].apply(list))\n",
    "    no_clusts = no_clust_grouped['gene_names'].to_list()\n",
    "\n",
    "    # compute mean and stdev of grand f1 scores on 50 repetitions, and max_clique of 5\n",
    "    clust_mean, clust_std = cc.repeat_cluster_scoring(standard, clusts, max_clique=5, n_repeat=10)\n",
    "    no_clust_mean, no_clust_std = cc.repeat_cluster_scoring(\n",
    "        standard, no_clusts, max_clique=5, n_repeat=10\n",
    "    )\n",
    "\n",
    "    clust_means.append(clust_mean)\n",
    "    clust_stds.append(clust_std)\n",
    "    no_clust_means.append(no_clust_mean)\n",
    "    no_clust_stds.append(no_clust_std)"
   ]
  },
  {
   "cell_type": "markdown",
   "metadata": {},
   "source": [
    "### Plot the F1 scores as a function of the inflation parameter"
   ]
  },
  {
   "cell_type": "code",
   "execution_count": 22,
   "metadata": {},
   "outputs": [
    {
     "data": {
      "text/plain": [
       "<matplotlib.legend.Legend at 0x7fbce9bd1130>"
      ]
     },
     "execution_count": 22,
     "metadata": {},
     "output_type": "execute_result"
    },
    {
     "data": {
      "image/png": "[encoded data removed]",
      "text/plain": [
       "<Figure size 432x288 with 1 Axes>"
      ]
     },
     "metadata": {
      "needs_background": "light",
      "transient": {}
     },
     "output_type": "display_data"
    }
   ],
   "source": [
    "fig, ax =plt.subplots(figsize=(6,4))\n",
    "x = np.arange(1,8)\n",
    "\n",
    "ax.errorbar(x, clust_means, yerr=clust_stds, capsize=2, label='stoichiometry-weighted')\n",
    "ax.errorbar(x, no_clust_means, yerr=no_clust_stds, capsize=2, label='unweighted')\n",
    "\n",
    "ax.set_ylim(0,0.08)\n",
    "ax.set_xlabel('MCL Inflation Parameter')\n",
    "ax.set_ylabel('clustering Grand-F1 score')\n",
    "plt.legend()"
   ]
  },
  {
   "cell_type": "code",
   "execution_count": null,
   "metadata": {},
   "outputs": [],
   "source": []
  }
 ],
 "metadata": {
  "interpreter": {
   "hash": "930e758eac83a47c3f6a2aaed71e4b7879009c372833f2c2cc066faeb240b89b"
  },
  "kernelspec": {
   "display_name": "scanpyenv",
   "language": "python",
   "name": "scanpyenv"
  },
  "language_info": {
   "codemirror_mode": {
    "name": "ipython",
    "version": 3
   },
   "file_extension": ".py",
   "mimetype": "text/x-python",
   "name": "python",
   "nbconvert_exporter": "python",
   "pygments_lexer": "ipython3",
   "version": "3.7.9"
  }
 },
 "nbformat": 4,
 "nbformat_minor": 4
}
