{
 "cells": [
  {
   "cell_type": "markdown",
   "metadata": {},
   "source": [
    "## Precision-recall curve for interactome clustering\n",
    "\n",
    "This notebook calculates the precision-recall curve in Figure S4B."
   ]
  },
  {
   "cell_type": "code",
   "execution_count": 6,
   "metadata": {},
   "outputs": [],
   "source": [
    "import pandas as pd\n",
    "import pathlib\n",
    "import numpy as np\n",
    "import matplotlib.pyplot as plt\n",
    "import sys\n",
    "\n",
    "sys.path.append('../../scripts/')\n",
    "sys.path.append('../../scripts/interactome_precision_recall')\n",
    "import precision_recall\n",
    "from pyseus import validation_analysis"
   ]
  },
  {
   "cell_type": "markdown",
   "metadata": {
    "tags": []
   },
   "source": [
    "### Import datasets\n",
    "\n",
    "We import the table of all OpenCell hits along with ground truth datasets. \n",
    "\n",
    "The hits table (`'mass_spec_enrichment_pvals_20211001.csv'`) is too large to host on GitHub; it is available for download on Figshare [here](https://figshare.com/s/4135b44bf323ee479b1d)."
   ]
  },
  {
   "cell_type": "code",
   "execution_count": null,
   "metadata": {},
   "outputs": [],
   "source": [
    "data_root = pathlib.Path('../../data')\n",
    "\n",
    "all_hits = pd.read_csv(data_root / 'figshare' / 'mass_spec_enrichment_pvals_20211001.csv')\n",
    "corum = pd.read_csv(data_root / 'external' / 'corum_unique_interactions.csv')\n",
    "localizations = pd.read_excel(data_root / 'external' / 'hela_localization.xlsx', engine='openpyxl')"
   ]
  },
  {
   "cell_type": "code",
   "execution_count": 9,
   "metadata": {},
   "outputs": [],
   "source": [
    "# start a Pyseus Validations class that contains dynamic FDR caluclation method\n",
    "alpha12 = validation_analysis.Validation(\n",
    "    hit_table=all_hits, \n",
    "    target_col='target', \n",
    "    prey_col='prey',\n",
    "    corum=corum, \n",
    "    localization_table=localizations\n",
    ")\n",
    "\n",
    "# calculate dynamic fdr at alpha of 0.12\n",
    "alpha12.dynamic_fdr(perc=12)\n",
    "\n",
    "# Calculate precision and recall with this set\n",
    "alpha12.colocalization_precision()\n",
    "alpha12.corum_interaction_coverage()\n",
    "\n",
    "a12_precision, a12_recall = alpha12.precision, alpha12.recall"
   ]
  },
  {
   "cell_type": "markdown",
   "metadata": {},
   "source": [
    "### Create precision-recall curve\n",
    "\n",
    "Next we create a precision-recall curve by calculating precision and recall at different sets of FDR thresholds (these thresholds are used to define significant interactors). "
   ]
  },
  {
   "cell_type": "code",
   "execution_count": 10,
   "metadata": {},
   "outputs": [],
   "source": [
    "pr_table = precision_recall.precision_recall_curve(\n",
    "    all_hits, \n",
    "    target_col='target', \n",
    "    prey_col='prey', \n",
    "    corum=corum,\n",
    "    helas=localizations, \n",
    "    thresholds=None\n",
    ")"
   ]
  },
  {
   "cell_type": "code",
   "execution_count": 11,
   "metadata": {},
   "outputs": [
    {
     "data": {
      "text/plain": [
       "Text(0, 0.5, 'precision (broad co-localization')"
      ]
     },
     "execution_count": 11,
     "metadata": {},
     "output_type": "execute_result"
    },
    {
     "data": {
      "image/png": "[encoded data removed]",
      "text/plain": [
       "<Figure size 432x288 with 1 Axes>"
      ]
     },
     "metadata": {
      "needs_background": "light"
     },
     "output_type": "display_data"
    }
   ],
   "source": [
    "fig, ax = plt.subplots()\n",
    "ax.plot(pr_table['recall'], pr_table['precision'])\n",
    "ax.scatter(a12_recall, a12_precision, color='red')\n",
    "ax.set_ylim(0.75, 1)\n",
    "ax.set_xlim(-.02, .33)\n",
    "\n",
    "ax.set_xlabel('recall (CORUM coverage)')\n",
    "ax.set_ylabel('precision (broad co-localization')"
   ]
  }
 ],
 "metadata": {
  "interpreter": {
   "hash": "930e758eac83a47c3f6a2aaed71e4b7879009c372833f2c2cc066faeb240b89b"
  },
  "kernelspec": {
   "display_name": "scanpyenv",
   "language": "python",
   "name": "scanpyenv"
  },
  "language_info": {
   "codemirror_mode": {
    "name": "ipython",
    "version": 3
   },
   "file_extension": ".py",
   "mimetype": "text/x-python",
   "name": "python",
   "nbconvert_exporter": "python",
   "pygments_lexer": "ipython3",
   "version": "3.7.9"
  }
 },
 "nbformat": 4,
 "nbformat_minor": 4
}
