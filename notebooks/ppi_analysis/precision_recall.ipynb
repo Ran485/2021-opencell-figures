{
 "cells": [
  {
   "cell_type": "markdown",
   "metadata": {},
   "source": [
    "## Precision-recall for significant interactions\n",
    "\n",
    "This notebook calculates estimates of precision and recall for OpenCell interactions and various reference datasets. This is used in Figure S4C-E."
   ]
  },
  {
   "cell_type": "code",
   "execution_count": 4,
   "metadata": {},
   "outputs": [],
   "source": [
    "import pandas as pd\n",
    "import pathlib\n",
    "import numpy as np\n",
    "import matplotlib.pyplot as plt\n",
    "import sys\n",
    "\n",
    "sys.path.append('../../scripts/')\n",
    "sys.path.append('../../scripts/interactome_precision_recall')\n",
    "from pyseus import validation_analysis\n",
    "\n",
    "%matplotlib inline"
   ]
  },
  {
   "cell_type": "markdown",
   "metadata": {},
   "source": [
    "### Load datasets\n",
    "\n",
    "Reference PPI datasets were acquired from Bioplex 3.0, HuRi, and Hein et al 2015, and processed to include only necessary columns (targets/preys) to reduce storage on Github. Reference ground truths used are CORUM complexes and Hela colocalization data from Itzhak et al., 2016."
   ]
  },
  {
   "cell_type": "code",
   "execution_count": 6,
   "metadata": {},
   "outputs": [],
   "source": [
    "data_root = pathlib.Path('../../data')\n",
    "\n",
    "# import PPI datasets\n",
    "oc = pd.read_csv(data_root / 'ppi_analysis' / 'precision_recall' / 'opencell.csv')\n",
    "bioplex = pd.read_csv(data_root / 'external' / 'bioplex_3.0.csv')\n",
    "hein = pd.read_csv(data_root / 'external' / 'Hein_2015.csv')\n",
    "huri = pd.read_csv(data_root / 'external' / 'huri.csv')\n",
    "\n",
    "# import ground truths\n",
    "corum = pd.read_csv(data_root / 'external' / 'corum_unique_interactions.csv')\n",
    "hela_loc = pd.read_excel(data_root / 'external' / 'hela_localization.xlsx', engine='openpyxl')\n",
    "hela_loc = hela_loc[['gene_names', 'mnc_classifier']].copy()"
   ]
  },
  {
   "cell_type": "markdown",
   "metadata": {},
   "source": [
    "### Calculate CORUM-coverage-based recall and colocalization-based precision\n",
    "This is done for both for direct interactions and second neighbors."
   ]
  },
  {
   "cell_type": "code",
   "execution_count": null,
   "metadata": {},
   "outputs": [],
   "source": [
    "datasets = ['HuRi', 'Hein 2015', 'Bioplex 3.0', 'OpenCell']\n",
    "\n",
    "recall_directs = []\n",
    "recall_neighbors = []\n",
    "precisions = []\n",
    "\n",
    "for i, dataset in enumerate([huri, hein, bioplex, oc]):\n",
    "    print(\"Working on Precision/Recall of \" + datasets[i])\n",
    "    \n",
    "    analysis = validation_analysis.Validation(\n",
    "        hit_table=None, \n",
    "        target_col='target', \n",
    "        prey_col='prey',\n",
    "        corum=corum, \n",
    "        localization_table=hela_loc, \n",
    "        interaction_table=dataset\n",
    "    )\n",
    "    \n",
    "    # CORUM recall for direct interactors\n",
    "    analysis.corum_interaction_coverage(distance=False)\n",
    "    recall_directs.append(100*analysis.recall)\n",
    "\n",
    "    # CORUM recall for second neighbors\n",
    "    analysis.corum_interaction_coverage(distance=True)\n",
    "    recall_neighbors.append(100*analysis.recall)\n",
    "\n",
    "    # precision from co-localization\n",
    "    analysis.colocalization_precision()\n",
    "    precisions.append(100*analysis.precision)"
   ]
  },
  {
   "cell_type": "markdown",
   "metadata": {},
   "source": [
    "### Plot the CORUM coverage (recall) for all datasets"
   ]
  },
  {
   "cell_type": "code",
   "execution_count": 10,
   "metadata": {},
   "outputs": [
    {
     "data": {
      "image/png": "[encoded data removed]",
      "text/plain": [
       "<Figure size 432x288 with 1 Axes>"
      ]
     },
     "metadata": {
      "needs_background": "light"
     },
     "output_type": "display_data"
    }
   ],
   "source": [
    "# Direct neighbor corum coverages  \n",
    "colors = ['#8c8c8c', '#FBC15E', '#E24A33', '#348ABD']\n",
    "\n",
    "# OC\n",
    "plt.hlines(y=1,xmin=0,xmax=recall_directs[0], color=colors[0], linewidth=5, alpha=0.6)\n",
    "plt.plot(recall_directs[0], 1, 'o', color=colors[0], markersize=8)\n",
    "\n",
    "# Bioplex\n",
    "plt.hlines(y=2,xmin=0,xmax=recall_directs[1], color=colors[1], linewidth=5, alpha=0.6)\n",
    "plt.plot(recall_directs[1], 2,'o', color=colors[1], markersize=8)\n",
    "\n",
    "# Hein\n",
    "plt.hlines(y=3,xmin=0,xmax=recall_directs[2], color=colors[2], linewidth=5, alpha=0.6)\n",
    "plt.plot(recall_directs[2], 3,'o', color=colors[2], markersize=8)\n",
    "\n",
    "# HuRi\n",
    "plt.hlines(y=4,xmin=0,xmax=recall_directs[3], color=colors[3], linewidth=5, alpha=0.6)\n",
    "plt.plot(recall_directs[3], 4,'o', color=colors[3], markersize=8)\n",
    "\n",
    "# Second neighbor corum coverages\n",
    "plt.hlines(y=1,xmin=recall_directs[0],xmax=recall_neighbors[0], color=colors[0], linewidth=5, alpha=0.4)\n",
    "plt.plot(recall_neighbors[0], 1, 'o', color=colors[0], markersize=12)\n",
    "\n",
    "plt.hlines(y=2,xmin=recall_directs[1],xmax=recall_neighbors[1], color=colors[1], linewidth=5, alpha=0.4)\n",
    "plt.plot(recall_neighbors[1], 2,'o', color=colors[1], markersize=12)\n",
    "\n",
    "plt.hlines(y=3,xmin=recall_directs[2],xmax=recall_neighbors[2], color=colors[2], linewidth=5, alpha=0.4)\n",
    "plt.plot(recall_neighbors[2], 3,'o', color=colors[2], markersize=12)\n",
    "\n",
    "plt.hlines(y=4,xmin=recall_directs[3],xmax=recall_neighbors[3], color=colors[3], linewidth=5, alpha=0.4)\n",
    "plt.plot(recall_neighbors[3], 4,'o', color=colors[3], markersize=12)\n",
    "\n",
    "\n",
    "# plot labels\n",
    "plt.yticks(np.arange(1,5), datasets)\n",
    "\n",
    "# manual x ticks\n",
    "plt.xticks(np.arange(0,41,5))\n",
    "# manual x lims\n",
    "plt.xlim(-1,42)\n",
    "# manual y lims\n",
    "plt.ylim(0,5)\n",
    "\n",
    "plt.xlabel('CORUM Coverage (%)', fontsize=13)\n",
    "\n",
    "# only y grid lines\n",
    "plt.grid(axis='y')\n",
    "\n",
    "# label fontsizes\n",
    "plt.tick_params(labelsize=13, length=0)\n",
    "plt.tight_layout()\n",
    "plt.savefig('CORUM_recall_datasets_20210930.pdf', bbox_inches='tight')"
   ]
  },
  {
   "cell_type": "markdown",
   "metadata": {},
   "source": [
    "### Plot the precision values for all datasets"
   ]
  },
  {
   "cell_type": "code",
   "execution_count": 21,
   "metadata": {},
   "outputs": [],
   "source": [
    "# calculate precision for CORUM\n",
    "precision_datasets = ['HuRi', 'Hein 2015', 'Bioplex 3.0', 'OpenCell','',  'CORUM']\n",
    "# analysis = vali.Validation(hit_table=None, target_col='prot_1', prey_col='prot_2',\n",
    "#         corum=corum, localization_table=hela_loc, interaction_table=corum)\n",
    "\n",
    "# analysis.colocalization_precision()\n",
    "# precisions.insert(0, 100 * analysis.precision)\n",
    "del precisions[0]\n",
    "precisions.append(100* analysis.precision)"
   ]
  },
  {
   "cell_type": "code",
   "execution_count": 24,
   "metadata": {},
   "outputs": [
    {
     "data": {
      "image/png": "[encoded data removed]",
      "text/plain": [
       "<Figure size 432x288 with 1 Axes>"
      ]
     },
     "metadata": {
      "needs_background": "light"
     },
     "output_type": "display_data"
    }
   ],
   "source": [
    "plt.hlines(y=1,xmin=0,xmax=precisions[0], color='#8c8c8c', linewidth=5, alpha=0.6)\n",
    "plt.plot(precisions[0], 1,'o', color='#8c8c8c', markersize=12)\n",
    "\n",
    "plt.hlines(y=2,xmin=0,xmax=precisions[1], color='#348ABD', linewidth=5, alpha=0.6)\n",
    "plt.plot(precisions[1], 2, 'o', color='#348ABD', markersize=12)\n",
    "\n",
    "plt.hlines(y=3,xmin=0,xmax=precisions[2], color='#E24A33', linewidth=5, alpha=0.6)\n",
    "plt.plot(precisions[2], 3,'o', color='#E24A33', markersize=12)\n",
    "\n",
    "plt.hlines(y=4,xmin=0,xmax=precisions[3], color='#FBC15E', linewidth=5, alpha=0.6)\n",
    "plt.plot(precisions[3], 4,'o', color='#FBC15E', markersize=12)\n",
    "\n",
    "plt.hlines(y=6,xmin=0,xmax=precisions[4], color='#6d904f', linewidth=5, alpha=0.6)\n",
    "plt.plot(precisions[4], 6,'o', color='#6d904f', markersize=12)\n",
    "\n",
    "\n",
    "plt.vlines(x=62.72, ymin=0, ymax=7, linestyle='dashed', color='black', alpha=0.7)\n",
    "\n",
    "# plot labels\n",
    "plt.yticks(np.arange(1,7), precision_datasets)\n",
    "\n",
    "# manual x ticks\n",
    "plt.xticks(np.arange(60,101,10))\n",
    "# manual x lims\n",
    "plt.xlim(58,100)\n",
    "# manual y lims\n",
    "plt.ylim(0,7)\n",
    "\n",
    "plt.xlabel('Precision (% broad co-localization)', fontsize=13)\n",
    "\n",
    "# only y grid lines\n",
    "plt.grid(axis='y')\n",
    "\n",
    "# label fontsizes\n",
    "plt.tick_params(labelsize=13, length=0)\n",
    "plt.tight_layout()\n",
    "plt.savefig('colocalization_precision_datasets_20210920.pdf', bbox_inches='tight')"
   ]
  },
  {
   "cell_type": "code",
   "execution_count": 11,
   "metadata": {},
   "outputs": [],
   "source": [
    "toroot = '../../data/ppi_analysis/precision_recall/ignore/'\n",
    "oc_plex_int = pd.read_csv(toroot + 'plex_OC_intersection.csv')\n",
    "plex_only = pd.read_csv(toroot + 'plex_only.csv')\n",
    "oc_only = pd.read_csv(toroot + 'oc_only.csv')"
   ]
  },
  {
   "cell_type": "code",
   "execution_count": 34,
   "metadata": {},
   "outputs": [],
   "source": [
    "oc_all = pd.concat([oc_plex_int, oc_only])\n",
    "plex_all = pd.concat([plex_only, oc_plex_int])"
   ]
  },
  {
   "cell_type": "code",
   "execution_count": 53,
   "metadata": {},
   "outputs": [],
   "source": [
    "dats = [oc_plex_int, oc_only, plex_only, oc_all, plex_all]\n",
    "dat_precisions = []\n",
    "for dat in dats:\n",
    "    analysis = validation_analysis.Validation(\n",
    "        hit_table=None, \n",
    "        target_col='prot_1', \n",
    "        prey_col='prot_2',\n",
    "        corum=corum, \n",
    "        localization_table=hela_loc, \n",
    "        interaction_table=dat\n",
    "    )\n",
    "\n",
    "    analysis.colocalization_precision()\n",
    "    dat_precisions.append(100 * analysis.precision)"
   ]
  },
  {
   "cell_type": "code",
   "execution_count": 54,
   "metadata": {},
   "outputs": [
    {
     "data": {
      "text/plain": [
       "[94.78899082568807,\n",
       " 90.51264207840408,\n",
       " 79.26706827309236,\n",
       " 91.25686550006387,\n",
       " 83.22266903581782]"
      ]
     },
     "execution_count": 54,
     "metadata": {},
     "output_type": "execute_result"
    }
   ],
   "source": [
    "dat_precisions"
   ]
  },
  {
   "cell_type": "code",
   "execution_count": 62,
   "metadata": {},
   "outputs": [
    {
     "data": {
      "image/png": "[encoded data removed]",
      "text/plain": [
       "<Figure size 432x288 with 1 Axes>"
      ]
     },
     "metadata": {
      "needs_background": "light"
     },
     "output_type": "display_data"
    }
   ],
   "source": [
    "plt.hlines(y=1,xmin=0,xmax=dat_precisions[0], color='#8c8c8c', linewidth=5, alpha=0.6)\n",
    "plt.plot(dat_precisions[0], 1,'o', color='#8c8c8c', markersize=12)\n",
    "\n",
    "plt.hlines(y=2,xmin=0,xmax=dat_precisions[1], color='#348ABD', linewidth=5, alpha=0.6)\n",
    "plt.plot(dat_precisions[1], 2, 'o', color='#348ABD', markersize=12)\n",
    "\n",
    "plt.hlines(y=3,xmin=0,xmax=dat_precisions[2], color='#E24A33', linewidth=5, alpha=0.6)\n",
    "plt.plot(dat_precisions[2], 3,'o', color='#E24A33', markersize=12)\n",
    "\n",
    "# plt.hlines(y=4,xmin=0,xmax=dat_precisions[3], color='#348ABD', linewidth=5, alpha=0.6)\n",
    "# plt.plot(dat_precisions[3], 4,'o', color='#348ABD', markersize=12)\n",
    "\n",
    "# plt.hlines(y=5,xmin=0,xmax=dat_precisions[4], color='#E24A33', linewidth=5, alpha=0.6)\n",
    "# plt.plot(dat_precisions[4], 5,'o', color='#E24A33', markersize=12)\n",
    "\n",
    "plt.xlim(58,100)\n",
    "# manual y lims\n",
    "plt.ylim(0,4)\n",
    "# plot labels\n",
    "plt.yticks(np.arange(0,4), ['', 'Intersection', 'OC_only', 'Bioplex_only'])\n",
    "\n",
    "plt.rcParams['pdf.fonttype'] = 42\n",
    "\n",
    "_ = plt.title('Precisions in intersection set')\n",
    "\n",
    "plt.savefig('intersection_set_precisions.pdf')"
   ]
  }
 ],
 "metadata": {
  "interpreter": {
   "hash": "930e758eac83a47c3f6a2aaed71e4b7879009c372833f2c2cc066faeb240b89b"
  },
  "kernelspec": {
   "display_name": "scanpyenv",
   "language": "python",
   "name": "scanpyenv"
  },
  "language_info": {
   "codemirror_mode": {
    "name": "ipython",
    "version": 3
   },
   "file_extension": ".py",
   "mimetype": "text/x-python",
   "name": "python",
   "nbconvert_exporter": "python",
   "pygments_lexer": "ipython3",
   "version": "3.7.9"
  }
 },
 "nbformat": 4,
 "nbformat_minor": 4
}
