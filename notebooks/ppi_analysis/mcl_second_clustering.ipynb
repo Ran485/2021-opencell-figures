{
 "cells": [
  {
   "cell_type": "markdown",
   "metadata": {},
   "source": [
    "## MCL-based interactome clustering\n",
    "\n",
    "This notebook documents how the interactome is clustered using Markov clustering (MCL). "
   ]
  },
  {
   "cell_type": "code",
   "execution_count": 1,
   "metadata": {},
   "outputs": [],
   "source": [
    "import pandas as pd\n",
    "import sys\n",
    "sys.path.append('../../scripts/interactome_markov_clustering')\n",
    "\n",
    "import markov_clustering_utils as mcu"
   ]
  },
  {
   "cell_type": "markdown",
   "metadata": {},
   "source": [
    "### Import datasets\n",
    "For public convenience, we will use output clusters from the Markov clustering tool from Cytoscape (a popular PPI analysis software). The PPI edgelist that was used for original clustering is also included. The stoichiometry edges are already pre-weighted. Please refer to the manuscript for more details - but in short, interactions with stoichiometries that suggest strong, stable interactions are given strong edge weights. "
   ]
  },
  {
   "cell_type": "code",
   "execution_count": 3,
   "metadata": {},
   "outputs": [],
   "source": [
    "root = '../../data/ppi_analysis/clustering/'\n",
    "edge_list = pd.read_csv(root + 'oc_interactions_stoich_weighted.csv', index_col=0)\n",
    "first_clusters = pd.read_csv(root + 'mcl_i3.0_exclusion.csv')"
   ]
  },
  {
   "cell_type": "code",
   "execution_count": 12,
   "metadata": {},
   "outputs": [],
   "source": [
    "# for second MCL clustering, we only use interactions with high stoichiometries\n",
    "# that we identify as core interactions\n",
    "cores = edge_list[edge_list['circle_stoi']>2]\n",
    "\n",
    "# rename and reformat the raw Cytoscape output\n",
    "cleaned_clusters = mcu.clean_up_cytoscape_mcl(first_clusters, grouped=True)"
   ]
  },
  {
   "cell_type": "markdown",
   "metadata": {},
   "source": [
    "### Prune the original clusters\n",
    "We prune the original clusters with recursive haircut, meaning that single edges are pruned until there are no single edges left in all clusters."
   ]
  },
  {
   "cell_type": "code",
   "execution_count": 39,
   "metadata": {},
   "outputs": [],
   "source": [
    "mcl_haircut = mcu.mcl_haircut(\n",
    "    cleaned_clusters, edge_list, 'prot_1', 'prot_2', edge='circle_stoi', edge_thresh=1, clean=True\n",
    ")"
   ]
  },
  {
   "cell_type": "markdown",
   "metadata": {
    "tags": []
   },
   "source": [
    "### Do the clustering to obtain the 'core clusters'\n",
    "Then we merge the original super-cluster table with the core-cluster table and clean up to create the final cluster file."
   ]
  },
  {
   "cell_type": "code",
   "execution_count": 51,
   "metadata": {},
   "outputs": [
    {
     "name": "stdout",
     "output_type": "stream",
     "text": [
      "Clustering contains overlapping, to enable soft clustering set keep_overlap to True\n",
      "Clustering contains overlapping, to enable soft clustering set keep_overlap to True\n",
      "Clustering contains overlapping, to enable soft clustering set keep_overlap to True\n"
     ]
    }
   ],
   "source": [
    "core_clusters = mcu.second_mcl(\n",
    "    mcl_haircut, \n",
    "    cores, \n",
    "    'prot_1', \n",
    "    'prot_2',\n",
    "    first_thresh=15, \n",
    "    mcl_thresh=2, \n",
    "    mcl_inflation=3, \n",
    "    edge='circle_stoi', \n",
    "    clean=True\n",
    ")"
   ]
  },
  {
   "cell_type": "code",
   "execution_count": 67,
   "metadata": {},
   "outputs": [],
   "source": [
    "master_table = mcl_haircut.explode('gene_names')\n",
    "master_table = master_table.merge(core_clusters,  on=['super_cluster','gene_names'], how='left')\n",
    "\n",
    "master_table = (\n",
    "    master_table[['gene_names', 'super_cluster', 'core_cluster']]\n",
    "    .sort_values(by=['super_cluster', 'core_cluster', 'gene_names'])\n",
    "    .reset_index(drop=True)\n",
    ")"
   ]
  },
  {
   "cell_type": "code",
   "execution_count": 70,
   "metadata": {},
   "outputs": [
    {
     "data": {
      "text/html": [
       "<div>\n",
       "<style scoped>\n",
       "    .dataframe tbody tr th:only-of-type {\n",
       "        vertical-align: middle;\n",
       "    }\n",
       "\n",
       "    .dataframe tbody tr th {\n",
       "        vertical-align: top;\n",
       "    }\n",
       "\n",
       "    .dataframe thead th {\n",
       "        text-align: right;\n",
       "    }\n",
       "</style>\n",
       "<table border=\"1\" class=\"dataframe\">\n",
       "  <thead>\n",
       "    <tr style=\"text-align: right;\">\n",
       "      <th></th>\n",
       "      <th>gene_names</th>\n",
       "      <th>super_cluster</th>\n",
       "      <th>core_cluster</th>\n",
       "    </tr>\n",
       "  </thead>\n",
       "  <tbody>\n",
       "    <tr>\n",
       "      <th>0</th>\n",
       "      <td>ATG4B</td>\n",
       "      <td>0</td>\n",
       "      <td>0.0</td>\n",
       "    </tr>\n",
       "    <tr>\n",
       "      <th>1</th>\n",
       "      <td>ATG7</td>\n",
       "      <td>0</td>\n",
       "      <td>0.0</td>\n",
       "    </tr>\n",
       "    <tr>\n",
       "      <th>2</th>\n",
       "      <td>CAPRIN1</td>\n",
       "      <td>0</td>\n",
       "      <td>0.0</td>\n",
       "    </tr>\n",
       "    <tr>\n",
       "      <th>3</th>\n",
       "      <td>CCDC124</td>\n",
       "      <td>0</td>\n",
       "      <td>0.0</td>\n",
       "    </tr>\n",
       "    <tr>\n",
       "      <th>4</th>\n",
       "      <td>DRG1</td>\n",
       "      <td>0</td>\n",
       "      <td>0.0</td>\n",
       "    </tr>\n",
       "    <tr>\n",
       "      <th>...</th>\n",
       "      <td>...</td>\n",
       "      <td>...</td>\n",
       "      <td>...</td>\n",
       "    </tr>\n",
       "    <tr>\n",
       "      <th>2430</th>\n",
       "      <td>AGAP1</td>\n",
       "      <td>338</td>\n",
       "      <td>NaN</td>\n",
       "    </tr>\n",
       "    <tr>\n",
       "      <th>2431</th>\n",
       "      <td>AGAP3</td>\n",
       "      <td>338</td>\n",
       "      <td>NaN</td>\n",
       "    </tr>\n",
       "    <tr>\n",
       "      <th>2432</th>\n",
       "      <td>TANC1</td>\n",
       "      <td>338</td>\n",
       "      <td>NaN</td>\n",
       "    </tr>\n",
       "    <tr>\n",
       "      <th>2433</th>\n",
       "      <td>AATF</td>\n",
       "      <td>339</td>\n",
       "      <td>NaN</td>\n",
       "    </tr>\n",
       "    <tr>\n",
       "      <th>2434</th>\n",
       "      <td>NGDN</td>\n",
       "      <td>339</td>\n",
       "      <td>NaN</td>\n",
       "    </tr>\n",
       "  </tbody>\n",
       "</table>\n",
       "<p>2435 rows × 3 columns</p>\n",
       "</div>"
      ],
      "text/plain": [
       "     gene_names  super_cluster  core_cluster\n",
       "0         ATG4B              0           0.0\n",
       "1          ATG7              0           0.0\n",
       "2       CAPRIN1              0           0.0\n",
       "3       CCDC124              0           0.0\n",
       "4          DRG1              0           0.0\n",
       "...         ...            ...           ...\n",
       "2430      AGAP1            338           NaN\n",
       "2431      AGAP3            338           NaN\n",
       "2432      TANC1            338           NaN\n",
       "2433       AATF            339           NaN\n",
       "2434       NGDN            339           NaN\n",
       "\n",
       "[2435 rows x 3 columns]"
      ]
     },
     "execution_count": 70,
     "metadata": {},
     "output_type": "execute_result"
    }
   ],
   "source": [
    "master_table"
   ]
  },
  {
   "cell_type": "code",
   "execution_count": null,
   "metadata": {},
   "outputs": [],
   "source": []
  }
 ],
 "metadata": {
  "kernelspec": {
   "display_name": "Python 3 (ipykernel)",
   "language": "python",
   "name": "python3"
  },
  "language_info": {
   "codemirror_mode": {
    "name": "ipython",
    "version": 3
   },
   "file_extension": ".py",
   "mimetype": "text/x-python",
   "name": "python",
   "nbconvert_exporter": "python",
   "pygments_lexer": "ipython3",
   "version": "3.8.12"
  }
 },
 "nbformat": 4,
 "nbformat_minor": 4
}
