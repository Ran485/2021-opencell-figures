{
 "cells": [
  {
   "cell_type": "markdown",
   "metadata": {},
   "source": [
    "## Comparing OC localization annotations to HPA annotations\n",
    "__Keith Cheveralls__<br>\n",
    "__October 2021__\n",
    "\n",
    "This notebook compares the manual localization annotations of OpenCell targets to the HPA annotations and also to a dataset of annotations from yeast. It is used to generate Sankey diagrams comparing the OC and HPA annotations, and also to generate counts of partial and exact matches for each unique set of annotations. "
   ]
  },
  {
   "cell_type": "code",
   "execution_count": null,
   "metadata": {},
   "outputs": [],
   "source": [
    "import datetime\n",
    "import numpy as np\n",
    "import pandas as pd\n",
    "import pathlib\n",
    "import scanpy as sc\n",
    "import sys\n",
    "\n",
    "from matplotlib import pyplot as plt\n",
    "from matplotlib import rcParams\n",
    "\n",
    "%load_ext autoreload\n",
    "%autoreload 1\n",
    "\n",
    "sys.path.insert(0, '../')\n",
    "%aimport scripts.external.sankey\n",
    "%aimport scripts.annotation_comparisons.datasets\n",
    "%aimport scripts.annotation_comparisons.definitions\n",
    "from scripts.annotation_comparisons import datasets, plotting\n",
    "\n",
    "output_dir = pathlib.Path(\n",
    "    '/Users/keith.cheveralls/Box/KC-opencell-paper/oc-hpa-comparison/'\n",
    ")\n",
    "\n",
    "def timestamp():\n",
    "    return datetime.datetime.now().strftime('%Y-%m-%d')\n",
    "\n",
    "sc.settings.set_figure_params(dpi=80, facecolor='white', frameon=False)\n",
    "rcParams['font.family'] = 'sans-serif'\n",
    "rcParams['axes.grid'] = False"
   ]
  },
  {
   "cell_type": "markdown",
   "metadata": {},
   "source": [
    "# OpenCell <> HPA"
   ]
  },
  {
   "cell_type": "markdown",
   "metadata": {},
   "source": [
    "### Load the OpenCell and HPA annotations\n",
    "\n",
    "Four targets have no consensus OC labels - RBSN, LSM14A, LSMB14B, DDX6 - because they all have only the big_aggregates annotation. "
   ]
  },
  {
   "cell_type": "code",
   "execution_count": null,
   "metadata": {},
   "outputs": [],
   "source": [
    "res = 'high'\n",
    "oc_ants = datasets.load_oc_annotations(map_kind='hpa', from_preprint=False, res=res)\n",
    "hpa_ants = datasets.load_hpa_annotations(res=res, exclude_uncertain=False)"
   ]
  },
  {
   "cell_type": "code",
   "execution_count": null,
   "metadata": {},
   "outputs": [],
   "source": [
    "ensg_not_in_hpa = sorted(oc_ants.loc[~oc_ants.ensg_id.isin(hpa_ants.ensg_id)].target_name.unique())\n",
    "len(ensg_not_in_hpa)"
   ]
  },
  {
   "cell_type": "code",
   "execution_count": null,
   "metadata": {},
   "outputs": [],
   "source": [
    "names_not_in_hpa = sorted(oc_ants.loc[~oc_ants.target_name.isin(hpa_ants.gene_name)].target_name.unique())\n",
    "len(names_not_in_hpa)"
   ]
  },
  {
   "cell_type": "code",
   "execution_count": null,
   "metadata": {},
   "outputs": [],
   "source": [
    "oc_ants.to_csv(output_dir / ('%s-opencell-consensus-annotations.csv' % timestamp()), index=False)"
   ]
  },
  {
   "cell_type": "code",
   "execution_count": null,
   "metadata": {},
   "outputs": [],
   "source": [
    "# aside: targets not in oc_ants and therefore missing from the exports\n",
    "# (these are all targets w grade-3 big_aggregates)\n",
    "tmp = pd.read_csv('../data/2021-09-29-public-annotations-flat.csv')\n",
    "tmp.loc[~tmp.target_name.isin(oc_ants.target_name)]"
   ]
  },
  {
   "cell_type": "code",
   "execution_count": null,
   "metadata": {},
   "outputs": [],
   "source": [
    "# most common OC label sets\n",
    "oc_ants.groupby('ensg_id').consensus_label.agg(tuple).value_counts().head(11)"
   ]
  },
  {
   "cell_type": "code",
   "execution_count": null,
   "metadata": {},
   "outputs": [],
   "source": [
    "# most common HPA label sets\n",
    "hpa.groupby('ensg_id').consensus_label.agg(tuple).value_counts().head(22)"
   ]
  },
  {
   "cell_type": "code",
   "execution_count": null,
   "metadata": {},
   "outputs": [],
   "source": [
    "plt.figure(figsize=(6, 4))\n",
    "_ = plt.hist(\n",
    "    oc_ants.groupby('ensg_id').count().annotation_name, bins=np.arange(1, 6, 1), density=True, edgecolor='w',\n",
    ")"
   ]
  },
  {
   "cell_type": "markdown",
   "metadata": {},
   "source": [
    "### OC-HPA comparison: counts and sankey\n",
    "\n",
    "Note: for low resolution labels, the sankey diagrams all look nearly the same with or without including cytoskeleton in the 'cytoplasm' category."
   ]
  },
  {
   "cell_type": "code",
   "execution_count": null,
   "metadata": {},
   "outputs": [],
   "source": [
    "res = 'high'\n",
    "exclude_uncertain = False\n",
    "\n",
    "oc_ants = datasets.load_oc_annotations(map_kind='hpa', from_preprint=False, res=res)\n",
    "hpa_ants = datasets.load_hpa_annotations(res=res, exclude_uncertain=exclude_uncertain)\n",
    "\n",
    "oc_hpa = datasets.merge_targets(\n",
    "    oc_ants, reference_ants=hpa_ants, reference_kind='hpa', exclude_multilocalizing=False, how='inner'\n",
    ")\n",
    "oc_hpa_only_one = datasets.merge_targets(\n",
    "    oc_ants, reference_ants=hpa_ants, reference_kind='hpa', exclude_multilocalizing=True, how='inner'\n",
    ")\n",
    "\n",
    "(\n",
    "    oc_hpa.shape, \n",
    "    oc_hpa.partial_match.sum(), \n",
    "    oc_hpa.exact_match.sum(), \n",
    "    oc_hpa_only_one.shape,\n",
    "    oc_hpa_only_one.exact_match.sum()\n",
    ")"
   ]
  },
  {
   "cell_type": "markdown",
   "metadata": {},
   "source": [
    "### Sankey for all targets"
   ]
  },
  {
   "cell_type": "code",
   "execution_count": null,
   "metadata": {},
   "outputs": [],
   "source": [
    "# all targets\n",
    "min_count = 30 if res == 'high' else 1\n",
    "plotting.plot_sankey(\n",
    "    oc_hpa, \n",
    "    res=res, \n",
    "    left_category_name='OC', \n",
    "    right_category_name='HPA', \n",
    "    min_count=min_count, \n",
    "    use_dynamic_colormap=False\n",
    ")\n",
    "plt.savefig(\n",
    "    output_dir / ('%s-oc-hpa--all--%s-res--min-count-%s.pdf' % (timestamp(), res, min_count)),\n",
    "    bbox_inches='tight'\n",
    ")"
   ]
  },
  {
   "cell_type": "code",
   "execution_count": null,
   "metadata": {},
   "outputs": [],
   "source": [
    "# most common mismatched labels\n",
    "oc_hpa.loc[oc_hpa.partial_match == False].consensus_label_hpa.value_counts()"
   ]
  },
  {
   "cell_type": "code",
   "execution_count": null,
   "metadata": {},
   "outputs": [],
   "source": [
    "# all targets that do not match at all \n",
    "plotting.plot_sankey(\n",
    "    oc_hpa.loc[oc_hpa.partial_match == False], right_category_name='HPA', res=res, min_count=5\n",
    ")\n",
    "# plt.savefig(output_dir / ('oc-hpa--%s-res--mismatched-only.pdf' % res), bbox_inches='tight')"
   ]
  },
  {
   "cell_type": "code",
   "execution_count": null,
   "metadata": {},
   "outputs": [],
   "source": [
    "# targets with only one label\n",
    "plotting.plot_sankey(oc_hpa_only_one, right_category_name='HPA', res=res, min_count=5)\n",
    "# plt.savefig(output_dir / ('oc-hpa--%s-res--wo-multilocz.pdf' % res), bbox_inches='tight')"
   ]
  },
  {
   "cell_type": "code",
   "execution_count": null,
   "metadata": {},
   "outputs": [],
   "source": [
    "# targets with only one OC and only one HPA label *and* that do not match\n",
    "plotting.plot_sankey(\n",
    "    oc_hpa_only_one[oc_hpa_only_one.consensus_label_hpa != oc_hpa_only_one.consensus_label_oc],\n",
    "    min_count=5\n",
    ")\n",
    "# plt.savefig(output_dir / 'only-one-targets-mismatched.pdf', bbox_inches='tight')"
   ]
  },
  {
   "cell_type": "markdown",
   "metadata": {},
   "source": [
    "### Sankey for manually-curated discrepant targets\n",
    "\n",
    "This should include 'uncertain' HPA annotations, because Manu included these in the curated lisrt of discrepancies. "
   ]
  },
  {
   "cell_type": "code",
   "execution_count": null,
   "metadata": {},
   "outputs": [],
   "source": [
    "res = 'high'\n",
    "exclude_uncertain = False\n",
    "\n",
    "oc_hpa = datasets.merge_targets(\n",
    "    oc_ants=datasets.load_oc_annotations(map_kind='hpa', from_preprint=False, res=res),\n",
    "    reference_ants=datasets.load_hpa_annotations(res=res, exclude_uncertain=exclude_uncertain),\n",
    "    reference_kind='hpa', \n",
    "    exclude_multilocalizing=False\n",
    ")"
   ]
  },
  {
   "cell_type": "code",
   "execution_count": null,
   "metadata": {},
   "outputs": [],
   "source": [
    "curated = pd.read_csv('../data/curated-OC-HPA-discrepant-targets.csv')\n",
    "curated.rename(columns={'Gene': 'target_name', 'ENSG ID': 'ensg_id'}, inplace=True)\n",
    "curated.shape"
   ]
  },
  {
   "cell_type": "code",
   "execution_count": null,
   "metadata": {},
   "outputs": [],
   "source": [
    "set(curated.ensg_id).difference(oc_ants.ensg_id)"
   ]
  },
  {
   "cell_type": "code",
   "execution_count": null,
   "metadata": {},
   "outputs": [],
   "source": [
    "plotting.plot_sankey(\n",
    "    oc_hpa[oc_hpa.ensg_id.isin(curated.ensg_id)], res=res, min_count=3, use_dynamic_colormap=True\n",
    ")\n",
    "plt.savefig(\n",
    "    output_dir / ('%s-oc-hpa--all--%s-res--curated-discrepant.pdf' % (timestamp(), res)),\n",
    "    bbox_inches='tight'\n",
    ")"
   ]
  },
  {
   "cell_type": "markdown",
   "metadata": {},
   "source": [
    "### Export CSVs"
   ]
  },
  {
   "cell_type": "code",
   "execution_count": null,
   "metadata": {},
   "outputs": [],
   "source": [
    "# export all consensus annotations and counts of exact and partial matches (for supp table)\n",
    "datasets.export_consensus_annotations(output_dir, timestamp(), reference_kind='hpa')"
   ]
  },
  {
   "cell_type": "code",
   "execution_count": null,
   "metadata": {},
   "outputs": [],
   "source": [
    "oc_hpa_only_one = datasets.merge_targets(\n",
    "    oc_ants, reference_ants=hpa_ants, reference_kind='hpa', exclude_multilocalizing=True\n",
    ")\n",
    "oc_hpa_only_one.exact_match.sum(), oc_hpa_only_one.shape"
   ]
  },
  {
   "cell_type": "code",
   "execution_count": null,
   "metadata": {},
   "outputs": [],
   "source": [
    "# export the list of targets w only one OC and HPA annotation\n",
    "(\n",
    "    oc_hpa_only_one[\n",
    "        ['ensg_id', 'target_name', 'consensus_label_oc', 'consensus_label_hpa', 'exact_match']\n",
    "    ]\n",
    "    .sort_values(by=['exact_match', 'consensus_label_oc', 'consensus_label_hpa'])\n",
    "    .to_csv(\n",
    "        output_dir / ('%s-oc-hpa-comparison--high-res--targets-with-only-one-label.csv' % timestamp()),\n",
    "        index=False\n",
    "    )\n",
    ")"
   ]
  },
  {
   "cell_type": "code",
   "execution_count": null,
   "metadata": {},
   "outputs": [],
   "source": [
    "# export a sorted CSV of targets with totally mismatched labels\n",
    "mismatched = oc_hpa.loc[~oc_hpa.partial_match].copy()\n",
    "mismatched.sort_values(by=['consensus_label_oc', 'consensus_label_hpa']).to_csv(\n",
    "    output_dir / ('%s-oc-hpa-comparison-discrepant-targets.csv' % timestamp()), index=False\n",
    ")"
   ]
  },
  {
   "cell_type": "markdown",
   "metadata": {},
   "source": [
    "### Inspect particular mismatched targets"
   ]
  },
  {
   "cell_type": "code",
   "execution_count": null,
   "metadata": {},
   "outputs": [],
   "source": [
    "oc_hpa.loc[\n",
    "    (oc_hpa.consensus_label_hpa == ('nucleoplasm',)) & (oc_hpa.consensus_label_oc == ('er',))\n",
    "]"
   ]
  },
  {
   "cell_type": "markdown",
   "metadata": {},
   "source": [
    "### Aside: append links to OC, HPA, Uniprot to the summary of curated discrepancies\n",
    "This is for the supp table."
   ]
  },
  {
   "cell_type": "code",
   "execution_count": null,
   "metadata": {},
   "outputs": [],
   "source": [
    "targets = pd.read_csv('../data/all-public-targets.csv')\n",
    "\n",
    "discreps = pd.read_excel(\n",
    "    output_dir / 'OC-HPA-discrepancies-tmp.xlsx', sheet_name='data', engine='openpyxl'\n",
    ")\n",
    "\n",
    "discreps['target_name'] = discreps.gene_name.str.upper()\n",
    "targets['target_name'] = targets.target_name.str.upper()\n",
    "\n",
    "discreps_merged = pd.merge(discreps, targets, on='target_name', how='inner')\n",
    "discreps.shape, discreps_merged.shape"
   ]
  },
  {
   "cell_type": "code",
   "execution_count": null,
   "metadata": {},
   "outputs": [],
   "source": [
    "discreps_merged['hpa_link'] = ''\n",
    "discreps_merged['uniprot_link'] = ''\n",
    "discreps_merged['opencell_link'] = ''\n",
    "\n",
    "for ind, row in discreps_merged.iterrows():\n",
    "    discreps_merged.at[ind, 'hpa_link'] = f'https://www.proteinatlas.org/{row.ensg_id_x}/cell'\n",
    "    discreps_merged.at[ind, 'uniprot_link'] = f'https://www.uniprot.org/uniprot/{row.uniprot_id}'\n",
    "    discreps_merged.at[ind, 'opencell_link'] = f'https://opencell.czbiohub.org/target/{row.cell_line_id}'"
   ]
  },
  {
   "cell_type": "code",
   "execution_count": null,
   "metadata": {},
   "outputs": [],
   "source": [
    "(\n",
    "    discreps_merged.drop(labels=['target_name', 'cell_line_id', 'ensg_id_y', 'uniprot_id'], axis=1)\n",
    "    .to_csv(output_dir / 'OC-HPA-discrepancies-w-links.csv')\n",
    ")"
   ]
  },
  {
   "cell_type": "markdown",
   "metadata": {},
   "source": [
    "# OpenCell <> yeast"
   ]
  },
  {
   "cell_type": "markdown",
   "metadata": {},
   "source": [
    "### Inspect yeast-human homologs\n",
    "\n",
    "There are 3900 human genes (ensg_ids) and 2650 yeast genes. Of these, 1292 are one-to-one. "
   ]
  },
  {
   "cell_type": "code",
   "execution_count": null,
   "metadata": {},
   "outputs": [],
   "source": [
    "homologs = datasets.load_yeast_homologs()\n",
    "\n",
    "# number of human and yeast genes in the list of homologs\n",
    "homologs.ensg_id.nunique(), homologs.orf_id.nunique()"
   ]
  },
  {
   "cell_type": "code",
   "execution_count": null,
   "metadata": {},
   "outputs": [],
   "source": [
    "# the number of yeast orfs that map to a given number of ensg_ids\n",
    "homologs.orf_id.value_counts().value_counts().head(5)"
   ]
  },
  {
   "cell_type": "code",
   "execution_count": null,
   "metadata": {},
   "outputs": [],
   "source": [
    "# the number of ensg_ids that map to a iven number of yeast orfs\n",
    "homologs.ensg_id.value_counts().value_counts().head(5)"
   ]
  },
  {
   "cell_type": "markdown",
   "metadata": {},
   "source": [
    "### Load the OpenCell and yeast labels"
   ]
  },
  {
   "cell_type": "code",
   "execution_count": null,
   "metadata": {},
   "outputs": [],
   "source": [
    "res = 'high'\n",
    "oc_ants = datasets.load_oc_annotations(map_kind='yeast', res=res)\n",
    "yeast_ants = datasets.load_yeast_annotations(\n",
    "    res=res, append_human_homologs=True, include_only_1to1_homologs=False\n",
    ")"
   ]
  },
  {
   "cell_type": "code",
   "execution_count": null,
   "metadata": {},
   "outputs": [],
   "source": [
    "# the number of ensg_ids that map to a given number of orfs\n",
    "yeast_ants.groupby(['orf_id', 'ensg_id']).count().reset_index().ensg_id.value_counts().value_counts()"
   ]
  },
  {
   "cell_type": "code",
   "execution_count": null,
   "metadata": {},
   "outputs": [],
   "source": [
    "# most common OC label sets\n",
    "oc_ants.groupby('ensg_id').consensus_label.agg(tuple).value_counts().head(5)"
   ]
  },
  {
   "cell_type": "code",
   "execution_count": null,
   "metadata": {},
   "outputs": [],
   "source": [
    "yeast_ants.groupby('ensg_id').consensus_label.agg(tuple).value_counts()"
   ]
  },
  {
   "cell_type": "code",
   "execution_count": null,
   "metadata": {},
   "outputs": [],
   "source": [
    "oc_yeast = datasets.merge_targets(\n",
    "    oc_ants, reference_ants=yeast_ants, reference_kind='yeast', exclude_multilocalizing=False\n",
    ")\n",
    "oc_yeast_only_one = datasets.merge_targets(\n",
    "    oc_ants, reference_ants=yeast_ants, reference_kind='yeast', exclude_multilocalizing=True\n",
    ")\n",
    "\n",
    "(\n",
    "    oc_yeast.shape, \n",
    "    oc_yeast.partial_match.sum(), \n",
    "    oc_yeast.exact_match.sum(), \n",
    "    oc_yeast_only_one.shape,\n",
    "    oc_yeast_only_one.exact_match.sum()\n",
    ")"
   ]
  },
  {
   "cell_type": "code",
   "execution_count": null,
   "metadata": {},
   "outputs": [],
   "source": [
    "# all targets\n",
    "plotting.plot_sankey(oc_yeast, res=res, right_category_name='Yeast', min_count=5)\n",
    "plt.savefig(output_dir / ('%s-oc-yeast--all--%s-res--min-count-5.pdf' % (timestamp(), res)), bbox_inches='tight')"
   ]
  },
  {
   "cell_type": "code",
   "execution_count": null,
   "metadata": {},
   "outputs": [],
   "source": [
    "# without multilocz\n",
    "plotting.plot_sankey(oc_yeast_only_one, res=res, right_category_name='Yeast', min_count=1)\n",
    "# plt.savefig(output_dir / ('oc-yeast--%s-res--wo-multilocz.pdf' % res), bbox_inches='tight')"
   ]
  },
  {
   "cell_type": "code",
   "execution_count": null,
   "metadata": {},
   "outputs": [],
   "source": [
    "# export annotations and summary stats (for supp table)\n",
    "datasets.export_consensus_annotations(output_dir, timestamp(), reference_kind='yeast')"
   ]
  },
  {
   "cell_type": "code",
   "execution_count": null,
   "metadata": {},
   "outputs": [],
   "source": [
    "# export a sorted CSV of targets with totally mismatched labels\n",
    "mismatched = oc_yeast.loc[oc_yeast.partial_match == False].copy()\n",
    "\n",
    "mismatched.sort_values(by=['consensus_label_oc', 'consensus_label_yeast']).to_csv(\n",
    "    output_dir / ('%s-oc-yeast-comparison-discrepant-targets.csv' % timestamp()), index=False\n",
    ")"
   ]
  },
  {
   "cell_type": "code",
   "execution_count": null,
   "metadata": {},
   "outputs": [],
   "source": []
  },
  {
   "cell_type": "code",
   "execution_count": null,
   "metadata": {},
   "outputs": [],
   "source": []
  },
  {
   "cell_type": "code",
   "execution_count": null,
   "metadata": {},
   "outputs": [],
   "source": []
  }
 ],
 "metadata": {
  "kernelspec": {
   "display_name": "scanpyenv",
   "language": "python",
   "name": "scanpyenv"
  },
  "language_info": {
   "codemirror_mode": {
    "name": "ipython",
    "version": 3
   },
   "file_extension": ".py",
   "mimetype": "text/x-python",
   "name": "python",
   "nbconvert_exporter": "python",
   "pygments_lexer": "ipython3",
   "version": "3.7.9"
  }
 },
 "nbformat": 4,
 "nbformat_minor": 4
}
