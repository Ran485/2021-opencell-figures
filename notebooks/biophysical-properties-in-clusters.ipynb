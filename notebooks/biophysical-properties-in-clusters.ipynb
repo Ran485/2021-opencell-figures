{
 "cells": [
  {
   "cell_type": "markdown",
   "metadata": {},
   "source": [
    "## Within-cluster biophysical properties\n",
    "__Keith Cheveralls__<br>\n",
    "__October 2021__\n",
    "\n",
    "This notebook retrieves and calculates various protein biophysical properties and then calculates and plots their mean values within either the localization-based or interactome-based clusters."
   ]
  },
  {
   "cell_type": "code",
   "execution_count": null,
   "metadata": {},
   "outputs": [],
   "source": [
    "import IPython\n",
    "import numpy as np\n",
    "import pandas as pd\n",
    "import pathlib\n",
    "import seaborn as sns\n",
    "import sys\n",
    "\n",
    "from scipy import stats\n",
    "from matplotlib import pyplot as plt\n",
    "from matplotlib import rcParams\n",
    "\n",
    "%load_ext autoreload\n",
    "%autoreload 1\n",
    "\n",
    "sys.path.append('../')\n",
    "%aimport scripts.biophysical_properties.utils\n",
    "from scripts.biophysical_properties import utils\n",
    "\n",
    "IPython.display.set_matplotlib_formats('png2x')\n",
    "rcParams['figure.dpi'] = 80\n",
    "rcParams['savefig.dpi'] = 150\n",
    "rcParams['pdf.fonttype'] = 42\n",
    "rcParams['axes.grid'] = False\n",
    "rcParams['figure.figsize'] = (6, 4)\n",
    "rcParams['font.family'] = 'sans-serif'\n",
    "\n",
    "fontsize = 14\n",
    "rcParams['font.size'] = fontsize\n",
    "rcParams['axes.labelsize'] = fontsize\n",
    "rcParams['axes.titlesize'] = fontsize\n",
    "rcParams['xtick.labelsize'] = fontsize\n",
    "rcParams['ytick.labelsize'] = fontsize\n",
    "rcParams['legend.fontsize'] = fontsize - 2"
   ]
  },
  {
   "cell_type": "code",
   "execution_count": null,
   "metadata": {},
   "outputs": [],
   "source": [
    "data_dir = pathlib.Path('../data/biophysical-properties/')\n",
    "output_dir = pathlib.Path(\n",
    "    '/Users/keith.cheveralls/Box/KC-opencell-paper/disorder-scores'\n",
    ")\n",
    "cache_dir = output_dir\n",
    "timestamp = '2021-08-28'\n",
    "\n",
    "# large datasets that are retrieved and cached locally\n",
    "seqs_filepath = cache_dir / f'{timestamp}-all-uniprot-sequences.csv'\n",
    "iupred_scores_filepath = cache_dir / f'{timestamp}-all-uniprot-iupred-scores.csv'\n",
    "metapredict_scores_filepath = cache_dir / f'{timestamp}-all-uniprot-metapredict-scores.csv'\n",
    "\n",
    "# small output datasets included in the github repo (in ../data)\n",
    "props_filepath = data_dir / f'{timestamp}-all-uniprot-protein-properties.csv'\n",
    "iupred_mean_scores_filepath = data_dir / f'{timestamp}-all-uniprot-iupred-scores-means.csv'\n",
    "metapredict_mean_scores_filepath = data_dir / f'{timestamp}-all-uniprot-metapredict-scores-means.csv'"
   ]
  },
  {
   "cell_type": "markdown",
   "metadata": {},
   "source": [
    "### Retrieve protein sequences from UniProt"
   ]
  },
  {
   "cell_type": "code",
   "execution_count": null,
   "metadata": {},
   "outputs": [],
   "source": [
    "# all human uniprot_ids in uniprot\n",
    "df = pd.read_csv(cache_dir / 'all-human-uniprot-homo+sapiens-filtered-reviewed yes.tsv', sep='\\t')\n",
    "all_uniprot_ids = df.Entry.unique()\n",
    "len(all_uniprot_ids)"
   ]
  },
  {
   "cell_type": "code",
   "execution_count": null,
   "metadata": {},
   "outputs": [],
   "source": [
    "seqs, missing_uniprot_ids = utils.get_sequences_from_uniprot(all_uniprot_ids)"
   ]
  },
  {
   "cell_type": "code",
   "execution_count": null,
   "metadata": {},
   "outputs": [],
   "source": [
    "seqs.shape, len(all_uniprot_ids), len(missing_uniprot_ids)"
   ]
  },
  {
   "cell_type": "code",
   "execution_count": null,
   "metadata": {},
   "outputs": [],
   "source": [
    "seqs.to_csv(dst_dir / seqs_filepath, index=False)"
   ]
  },
  {
   "cell_type": "markdown",
   "metadata": {},
   "source": [
    "### Calc metapredict scores from sequences"
   ]
  },
  {
   "cell_type": "code",
   "execution_count": null,
   "metadata": {},
   "outputs": [],
   "source": [
    "seqs = pd.read_csv(seqs_filepath)\n",
    "seqs.shape"
   ]
  },
  {
   "cell_type": "code",
   "execution_count": null,
   "metadata": {},
   "outputs": [],
   "source": [
    "scores = utils.calc_metapredict_scores(seqs)"
   ]
  },
  {
   "cell_type": "code",
   "execution_count": null,
   "metadata": {},
   "outputs": [],
   "source": [
    "scores.uniprot_id.unique().shape, scores.score.isna().sum()"
   ]
  },
  {
   "cell_type": "code",
   "execution_count": null,
   "metadata": {},
   "outputs": [],
   "source": [
    "scores.to_csv(metapredict_scores_filepath, index=False)"
   ]
  },
  {
   "cell_type": "markdown",
   "metadata": {},
   "source": [
    "### Retrieve IUPred2A disorder scores using the IUPRED API\n",
    "\n",
    "Note: this takes 7ish minutes per 1000 uniprot_ids."
   ]
  },
  {
   "cell_type": "code",
   "execution_count": null,
   "metadata": {},
   "outputs": [],
   "source": [
    "scores = utils.get_iupred_scores(all_uniprot_ids)"
   ]
  },
  {
   "cell_type": "code",
   "execution_count": null,
   "metadata": {},
   "outputs": [],
   "source": [
    "scores.uniprot_id.unique().shape, len(all_uniprot_ids)"
   ]
  },
  {
   "cell_type": "code",
   "execution_count": null,
   "metadata": {},
   "outputs": [],
   "source": [
    "all_dfs.to_csv(dst_dir / iupred_scores_filepath, index=False)"
   ]
  },
  {
   "cell_type": "markdown",
   "metadata": {},
   "source": [
    "### Calculate biophysical properties from sequences"
   ]
  },
  {
   "cell_type": "code",
   "execution_count": null,
   "metadata": {},
   "outputs": [],
   "source": [
    "seqs = pd.read_csv(seqs_filepath)\n",
    "seqs.shape"
   ]
  },
  {
   "cell_type": "code",
   "execution_count": null,
   "metadata": {},
   "outputs": [],
   "source": [
    "props = utils.calc_biophysical_properties(seqs)"
   ]
  },
  {
   "cell_type": "code",
   "execution_count": null,
   "metadata": {},
   "outputs": [],
   "source": [
    "# count the number of errors\n",
    "props.shape, props.molecular_weight.isna().sum()"
   ]
  },
  {
   "cell_type": "code",
   "execution_count": null,
   "metadata": {},
   "outputs": [],
   "source": [
    "props.to_csv(props_filepath, index=False)"
   ]
  },
  {
   "cell_type": "markdown",
   "metadata": {},
   "source": [
    "### Calculate mean disorder score"
   ]
  },
  {
   "cell_type": "code",
   "execution_count": null,
   "metadata": {},
   "outputs": [],
   "source": [
    "score_kind = 'iupred'\n",
    "\n",
    "# to calculate whole-sequence means only\n",
    "window_sizes = []\n",
    "\n",
    "scores_filepath = (\n",
    "    iupred_scores_filepath if score_kind == 'iupred' else metapredict_scores_filepath\n",
    ")\n",
    "\n",
    "mean_scores_filepath = (\n",
    "    iupred_mean_scores_filepath if score_kind == 'iupred' else metapredict_mean_scores_filepath\n",
    ")"
   ]
  },
  {
   "cell_type": "code",
   "execution_count": null,
   "metadata": {},
   "outputs": [],
   "source": [
    "scores = pd.read_csv(scores_filepath)\n",
    "scores = scores.sort_values(by=['uniprot_id', 'position'])\n",
    "scores.shape, scores.uniprot_id.unique().shape"
   ]
  },
  {
   "cell_type": "code",
   "execution_count": null,
   "metadata": {},
   "outputs": [],
   "source": [
    "# sanity check a single uniprot_id\n",
    "score = scores.loc[scores.uniprot_id == 'P51114']\n",
    "plt.plot(score.score)\n",
    "plt.plot(score.rolling(window=50).mean().score)"
   ]
  },
  {
   "cell_type": "code",
   "execution_count": null,
   "metadata": {},
   "outputs": [],
   "source": [
    "mean_scores = utils.calc_windowed_disorder_scores(scores, window_sizes=window_sizes)\n",
    "mean_scores.shape, mean_scores.mean_score.isna().sum()"
   ]
  },
  {
   "cell_type": "code",
   "execution_count": null,
   "metadata": {},
   "outputs": [],
   "source": [
    "mean_scores.to_csv(mean_scores_filepath, index=False)"
   ]
  },
  {
   "cell_type": "markdown",
   "metadata": {},
   "source": [
    "### Merge protein properties, disorder scores, and the leiden cluster_ids"
   ]
  },
  {
   "cell_type": "code",
   "execution_count": null,
   "metadata": {},
   "outputs": [],
   "source": [
    "# load the mass-spec or imaging (leiden) clusters\n",
    "ms_clusters = pd.read_csv(data_dir / 'interactome-clusters.csv')\n",
    "im_clusters = pd.read_csv(data_dir / '2021-08-23-leiden-clusters-res30-seed18.csv')"
   ]
  },
  {
   "cell_type": "code",
   "execution_count": null,
   "metadata": {},
   "outputs": [],
   "source": [
    "# load the generic biophysical properties and the disorder scores\n",
    "props = pd.read_csv(props_filepath)\n",
    "mean_scores = pd.read_csv(iupred_mean_scores_filepath)\n",
    "mean_scores.shape"
   ]
  },
  {
   "cell_type": "code",
   "execution_count": null,
   "metadata": {},
   "outputs": [],
   "source": [
    "all_props = pd.merge(mean_scores, props, on='uniprot_id', how='inner')"
   ]
  },
  {
   "cell_type": "code",
   "execution_count": null,
   "metadata": {},
   "outputs": [],
   "source": [
    "# append RNA-binding flags from a separate dataset\n",
    "rna_props = pd.read_csv(data_dir / 'external' / 'rna-binding-annotations.csv')\n",
    "rna_binding_flag = rna_props[['uniprot_id', 'is_rna_bp']].copy()\n",
    "rna_binding_flag['is_rna_bp'] = rna_binding_flag.is_rna_bp == 'RNA_BP'\n",
    "\n",
    "all_props = pd.merge(\n",
    "    all_props,\n",
    "    rna_binding_flag,\n",
    "    left_on='uniprot_id', \n",
    "    right_on='uniprot_id', \n",
    "    how='inner'\n",
    ")"
   ]
  },
  {
   "cell_type": "code",
   "execution_count": null,
   "metadata": {},
   "outputs": [],
   "source": [
    "# manually choose either mass spec or spatial clusters\n",
    "clusters = im_clusters.copy()\n",
    "merged = pd.merge(clusters, all_props, on='uniprot_id', how='inner')\n",
    "clusters.shape, merged.shape"
   ]
  },
  {
   "cell_type": "markdown",
   "metadata": {},
   "source": [
    "### Plot the distribution of within-cluster means"
   ]
  },
  {
   "cell_type": "code",
   "execution_count": null,
   "metadata": {},
   "outputs": [],
   "source": [
    "cluster_id = 'leiden'\n",
    "# cluster_id = 'mcl_community_id'\n",
    "\n",
    "col = 'mean_score'\n",
    "bins = np.arange(0, 0.85, .05)\n",
    "label = 'disorder score'\n",
    "\n",
    "# col = 'gravy'\n",
    "# bins = np.arange(-1.5, 0.6, 0.1)\n",
    "# label = 'hydrophobicity score'\n",
    "\n",
    "# col = 'is_rna_bp'\n",
    "# bins = np.arange(0, 1.1, 0.1)\n",
    "# label = 'RNA-binding label'\n",
    "\n",
    "tmp = merged.copy()\n",
    "\n",
    "shuffled_means = []\n",
    "for _ in range(100):\n",
    "    values = tmp[col].values.copy()\n",
    "    np.random.shuffle(values)\n",
    "    tmp['shuffled'] = values\n",
    "    shuffled_means.extend(list(tmp.groupby(cluster_id).mean().shuffled.values))\n",
    "\n",
    "true_means = tmp.groupby(cluster_id).mean()[col].values\n",
    "\n",
    "sns.histplot(shuffled_means, element=\"step\", stat='probability', color='#aaa', bins=bins)\n",
    "sns.histplot(true_means, element=\"step\", stat='probability', color='#204eba', bins=bins, alpha=0.5)\n",
    "\n",
    "if False:\n",
    "    plt.savefig(\n",
    "        output_dir / ('distribution-of-within-cluster-means--%s--%s.pdf' % (cluster_id, col,)), \n",
    "        bbox_inches='tight', \n",
    "        pad_inches=0.2\n",
    "    )\n",
    "    \n",
    "plt.xlabel('Within-cluster means for %s' % (label or col))\n",
    "plt.ylabel('Probability')"
   ]
  },
  {
   "cell_type": "markdown",
   "metadata": {},
   "source": [
    "### Export a CSV of within-cluster mean disorder, hydrophobicity, and RNA binding"
   ]
  },
  {
   "cell_type": "code",
   "execution_count": null,
   "metadata": {},
   "outputs": [],
   "source": [
    "(\n",
    "    merged.groupby('leiden').mean().reset_index()\n",
    "    [['leiden', 'mean_score', 'gravy', 'is_rna_bp']]\n",
    "    .rename(\n",
    "        columns={\n",
    "            'mean_score': 'mean_iupred_score',\n",
    "            'leiden': 'leiden_cluster_id',\n",
    "            'gravy': 'mean_hydrophobicity_score',\n",
    "            'is_rna_bp': 'percent_rna_bp'\n",
    "        },\n",
    "   )\n",
    "    # .to_csv(output_dir / '2021-09-30-all-within-cluster-means.csv', index=False)\n",
    ")"
   ]
  },
  {
   "cell_type": "markdown",
   "metadata": {},
   "source": [
    "### Export the lists of true and shuffled within-cluster means"
   ]
  },
  {
   "cell_type": "code",
   "execution_count": null,
   "metadata": {},
   "outputs": [],
   "source": [
    "pd.Series(true_means, name='true_clusters').to_csv(\n",
    "    output_dir / ('%s-within-cluster-means--%s--true-clusters.csv' % (timestamp, col)), \n",
    "    index=False\n",
    ")\n",
    "pd.Series(shuffled_means, name='shuffled_clusters').to_csv(\n",
    "    output_dir / ('%s-within-cluster-means--%s--shuffled-clusters.csv' % (timestamp, col)), \n",
    "    index=False\n",
    ")"
   ]
  },
  {
   "cell_type": "markdown",
   "metadata": {},
   "source": [
    "### Scatterplot of within-cluster means of disorder score and gravy index"
   ]
  },
  {
   "cell_type": "code",
   "execution_count": null,
   "metadata": {},
   "outputs": [],
   "source": [
    "cluster_id = 'leiden'\n",
    "# cluster_id = 'mcl_community_id'\n",
    "\n",
    "cols = ['gravy', 'mean_score', 'is_rna_bp']\n",
    "\n",
    "tmp = merged.copy()\n",
    "\n",
    "true_means = [\n",
    "    tmp.groupby(cluster_id).mean()[col].values for col in cols\n",
    "]\n",
    "true_means = pd.DataFrame(np.array(true_means).transpose(), columns=cols)\n",
    "\n",
    "shuffled_means = [[] for _ in cols]\n",
    "for _ in range(100):\n",
    "    cluster_ids = tmp[cluster_id].values\n",
    "    np.random.shuffle(cluster_ids)\n",
    "    tmp[cluster_id] = cluster_ids\n",
    "    for ind, col in enumerate(cols):\n",
    "        shuffled_means[ind].extend(list(tmp.groupby(cluster_id).mean()[col].values))\n",
    "\n",
    "shuffled_means = pd.DataFrame(np.array(shuffled_means).transpose(), columns=cols)\n",
    "\n",
    "plt.figure(figsize=(6,6))\n",
    "sns.scatterplot(\n",
    "    x=shuffled_means.gravy, y=shuffled_means.mean_score, alpha=0.1, color='#999', edgecolor=None, s=3\n",
    ")\n",
    "sns.scatterplot(x=true_means.gravy, y=true_means.mean_score, alpha=1, color='red', s=7)\n",
    "\n",
    "plt.xlabel('Hydrophobicity')\n",
    "plt.ylabel('IUPRED2A score')"
   ]
  },
  {
   "cell_type": "markdown",
   "metadata": {},
   "source": [
    "### Aside: calculate the Gini index for the true and shuffled distribution of within-cluster means"
   ]
  },
  {
   "cell_type": "code",
   "execution_count": null,
   "metadata": {},
   "outputs": [],
   "source": [
    "def mean_abs_diff(vals):\n",
    "    vals = np.array(vals)\n",
    "    s, n = 0, 0\n",
    "    _n = len(vals)\n",
    "    for val in vals:\n",
    "        s += np.abs(val - vals).sum()\n",
    "        n += _n\n",
    "    return s/n/(2*vals.mean())"
   ]
  },
  {
   "cell_type": "code",
   "execution_count": null,
   "metadata": {},
   "outputs": [],
   "source": [
    "# sanity check for uniform distribution\n",
    "a_vals = [0, 1, 7]\n",
    "b_vals = [1, 3, 11]\n",
    "for a in a_vals:\n",
    "    for b in b_vals:\n",
    "        if a > b:\n",
    "            continue\n",
    "        theory_gini = (b - a) / (3 * (a + b))\n",
    "        estimated_gini = mean_abs_diff(np.random.rand(10000)*(b - a) + a)\n",
    "        print((a, b, theory_gini, estimated_gini))"
   ]
  },
  {
   "cell_type": "code",
   "execution_count": null,
   "metadata": {},
   "outputs": [],
   "source": [
    "mean_abs_diff(true_means), mean_abs_diff(shuffled_means)"
   ]
  }
 ],
 "metadata": {
  "kernelspec": {
   "display_name": "sklearnenv",
   "language": "python",
   "name": "sklearnenv"
  },
  "language_info": {
   "codemirror_mode": {
    "name": "ipython",
    "version": 3
   },
   "file_extension": ".py",
   "mimetype": "text/x-python",
   "name": "python",
   "nbconvert_exporter": "python",
   "pygments_lexer": "ipython3",
   "version": "3.7.3"
  }
 },
 "nbformat": 4,
 "nbformat_minor": 2
}
