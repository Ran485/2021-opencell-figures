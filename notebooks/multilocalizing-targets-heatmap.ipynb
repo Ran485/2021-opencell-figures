{
 "cells": [
  {
   "cell_type": "markdown",
   "metadata": {},
   "source": [
    "## Heatmap of multilocalizing target annotations\n",
    "__Keith Cheveralls__<br>\n",
    "__October 2021__\n",
    "\n",
    "This notebook generates a heatmap of co-occuring annotations for all multilocalizing OpenCell targets, using the manual annotations. (This heatmap appears in Fig S7B.)"
   ]
  },
  {
   "cell_type": "code",
   "execution_count": null,
   "metadata": {},
   "outputs": [],
   "source": [
    "import datetime\n",
    "import itertools\n",
    "import numpy as np\n",
    "import pandas as pd\n",
    "import pathlib\n",
    "import scanpy as sc\n",
    "import seaborn as sns\n",
    "import sys\n",
    "\n",
    "from matplotlib import pyplot as plt\n",
    "from matplotlib import rcParams\n",
    "\n",
    "%load_ext autoreload\n",
    "%autoreload 1\n",
    "\n",
    "sys.path.insert(0, '../')\n",
    "%aimport scripts.external.sankey\n",
    "%aimport scripts.annotation_comparisons.datasets\n",
    "%aimport scripts.annotation_comparisons.definitions\n",
    "from scripts.annotation_comparisons import datasets, plotting\n",
    "\n",
    "data_dir = pathlib.Path('../data')\n",
    "output_dir = pathlib.Path(\n",
    "    '/Users/keith.cheveralls/Box/KC-opencell-paper/'\n",
    ")\n",
    "\n",
    "def timestamp():\n",
    "    return datetime.datetime.now().strftime('%Y-%m-%d')\n",
    "\n",
    "sc.settings.set_figure_params(dpi=80, facecolor='white', frameon=False)\n",
    "rcParams['font.family'] = 'sans-serif'\n",
    "rcParams['axes.grid'] = False"
   ]
  },
  {
   "cell_type": "code",
   "execution_count": null,
   "metadata": {},
   "outputs": [],
   "source": [
    "df = pd.read_csv(data_dir / '2021-09-29-public-annotations-flat.csv')"
   ]
  },
  {
   "cell_type": "code",
   "execution_count": null,
   "metadata": {},
   "outputs": [],
   "source": [
    "categories_to_plot = [\n",
    "    'nucleoplasm',\n",
    "    'chromatin',\n",
    "    'nuclear_membrane',\n",
    "    'nuclear_punctae',\n",
    "    'nucleolus_fc_dfc',\n",
    "    'nucleolus_gc',\n",
    "    'cytoplasmic',\n",
    "    'cytoskeleton',\n",
    "    'centrosome',\n",
    "    'focal_adhesions',\n",
    "    'membrane',\n",
    "    'vesicles',\n",
    "    'er',\n",
    "    'mitochondria',\n",
    "]"
   ]
  },
  {
   "cell_type": "code",
   "execution_count": null,
   "metadata": {},
   "outputs": [],
   "source": [
    "# retain only the grade-2 or grade-3 annotations \n",
    "# (which are necessarily localization annotations)\n",
    "df = df.loc[df.annotation_grade.isin(['2', '3'])]\n",
    "df.shape"
   ]
  },
  {
   "cell_type": "code",
   "execution_count": null,
   "metadata": {},
   "outputs": [],
   "source": [
    "# retain only the categories to be plotted\n",
    "dff = df.loc[df.annotation_name.isin(categories_to_plot)]"
   ]
  },
  {
   "cell_type": "code",
   "execution_count": null,
   "metadata": {},
   "outputs": [],
   "source": [
    "# sanity check: counts lines with more than one category \n",
    "(\n",
    "    df.ensg_id.unique().shape, \n",
    "    dff.ensg_id.unique().shape, \n",
    "    (df.ensg_id.value_counts() > 1).sum()\n",
    ")"
   ]
  },
  {
   "cell_type": "code",
   "execution_count": null,
   "metadata": {},
   "outputs": [],
   "source": [
    "# the number of lines that are both cytoplasmic and nucleoplasmic\n",
    "df.groupby('ensg_id').apply(\n",
    "    lambda d: set(['cytoplasmic', 'nucleoplasm']).issubset(d.annotation_name.values)\n",
    ").sum()"
   ]
  },
  {
   "cell_type": "code",
   "execution_count": null,
   "metadata": {},
   "outputs": [],
   "source": [
    "all_possible_pairs = list(itertools.combinations(categories_to_plot, 2))\n",
    "\n",
    "# initialize a dataframe of pairwise counts\n",
    "pairwise_counts = pd.DataFrame(columns=categories_to_plot, index=categories_to_plot)\n",
    "pairwise_counts.loc[:] = 0"
   ]
  },
  {
   "cell_type": "code",
   "execution_count": null,
   "metadata": {},
   "outputs": [],
   "source": [
    "# explicitly count the pairs of categories\n",
    "grouped = df.groupby('ensg_id')\n",
    "\n",
    "for ensg_id in df.ensg_id.unique():\n",
    "    categories = grouped.get_group(ensg_id).annotation_name.tolist()\n",
    "    for row_category in pairwise_counts.index:\n",
    "            for col_category in pairwise_counts.columns:\n",
    "                if col_category in categories and row_category in categories:\n",
    "                    pairwise_counts.at[row_category, col_category] += 1"
   ]
  },
  {
   "cell_type": "code",
   "execution_count": null,
   "metadata": {},
   "outputs": [],
   "source": [
    "# normalize each row by the frequency of its category\n",
    "counts = df.groupby('annotation_name').ensg_id.count()\n",
    "for category in pairwise_counts:\n",
    "    pairwise_counts.loc[category] /= counts[category]"
   ]
  },
  {
   "cell_type": "code",
   "execution_count": null,
   "metadata": {},
   "outputs": [],
   "source": [
    "plt.figure(figsize=(10, 10))\n",
    "\n",
    "sns.heatmap(\n",
    "    pairwise_counts.astype(float),\n",
    "    cmap='YlGnBu', \n",
    "    vmax=None, \n",
    "    square=True, \n",
    "    linewidths=.5,\n",
    "    annot=True,\n",
    "    fmt='0.2f'\n",
    ")"
   ]
  },
  {
   "cell_type": "code",
   "execution_count": null,
   "metadata": {},
   "outputs": [],
   "source": [
    "pairwise_counts.to_csv(output_dir / 'multilocalizing-targets-heatmap.csv')"
   ]
  },
  {
   "cell_type": "code",
   "execution_count": null,
   "metadata": {},
   "outputs": [],
   "source": []
  }
 ],
 "metadata": {
  "kernelspec": {
   "display_name": "scanpyenv",
   "language": "python",
   "name": "scanpyenv"
  },
  "language_info": {
   "codemirror_mode": {
    "name": "ipython",
    "version": 3
   },
   "file_extension": ".py",
   "mimetype": "text/x-python",
   "name": "python",
   "nbconvert_exporter": "python",
   "pygments_lexer": "ipython3",
   "version": "3.7.9"
  }
 },
 "nbformat": 4,
 "nbformat_minor": 2
}
