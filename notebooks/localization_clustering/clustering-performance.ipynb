{
 "cells": [
  {
   "cell_type": "markdown",
   "metadata": {},
   "source": [
    "## Quantifying localization-based clustering performance\n",
    "__Keith Cheveralls__<br>\n",
    "__October 2021__\n",
    "\n",
    "This notebook documents how the 'performance' of the localization-based Leiden clustering of OpenCell targets was quantified, particularly the calculation of the Adjusted Rand Index (ARI) as a function of the Leiden clustering resolution. "
   ]
  },
  {
   "cell_type": "code",
   "execution_count": null,
   "metadata": {},
   "outputs": [],
   "source": [
    "import anndata as ad\n",
    "import datetime\n",
    "import numpy as np\n",
    "import pandas as pd\n",
    "import pathlib\n",
    "import scanpy as sc\n",
    "import seaborn as sns\n",
    "import sys\n",
    "\n",
    "import sklearn.manifold\n",
    "import sklearn.metrics\n",
    "import sklearn.neighbors\n",
    "\n",
    "from matplotlib import pyplot as plt\n",
    "from matplotlib import rcParams"
   ]
  },
  {
   "cell_type": "code",
   "execution_count": null,
   "metadata": {},
   "outputs": [],
   "source": [
    "%load_ext autoreload\n",
    "%autoreload 1\n",
    "\n",
    "sys.path.append('../../')\n",
    "%aimport scripts.cytoself_analysis.clustering_workflows\n",
    "%aimport scripts.cytoself_analysis.ground_truth_labels\n",
    "%aimport scripts.cytoself_analysis.go_utils\n",
    "from scripts.cytoself_analysis import (\n",
    "    clustering_workflows, ground_truth_labels, go_utils\n",
    ")\n",
    "\n",
    "sc.settings.set_figure_params(dpi=80, facecolor='white', frameon=False)\n",
    "rcParams['font.family'] = 'sans-serif'\n",
    "rcParams['axes.grid'] = False\n",
    "\n",
    "data_dir = pathlib.Path('../../data')\n",
    "output_dir = pathlib.Path(\n",
    "    '/Users/keith.cheveralls/Box/KC-opencell-paper/image-based-clustering/'\n",
    ")\n",
    "\n",
    "def timestamp():\n",
    "    return datetime.datetime.now().strftime('%Y-%m-%d')"
   ]
  },
  {
   "cell_type": "markdown",
   "metadata": {
    "tags": []
   },
   "source": [
    "### Load the adata object of target localization encodings\n",
    "This anndata object includes results of preprocessing: the 200 PCs, kNN matrix, and UMAP coords. The generation of this object is documented in the notebook `generate-localization-encoding.ipynb` and it can be downloaded from figshare [here](https://figshare.com/articles/dataset/Consensus_protein_localization_encodings_for_all_OpenCell_targets/16754965). "
   ]
  },
  {
   "cell_type": "code",
   "execution_count": null,
   "metadata": {},
   "outputs": [],
   "source": [
    "adata = ad.read_h5ad(data_dir / 'figshare' / 'final-opencell-target-localization-encodings.h5ad')\n",
    "cwv = clustering_workflows.ClusteringWorkflow(adata=adata)"
   ]
  },
  {
   "cell_type": "code",
   "execution_count": null,
   "metadata": {},
   "outputs": [],
   "source": [
    "sc.pl.umap(cwv.adata, color='grade_3_annotation', palette='tab10', alpha=0.5)"
   ]
  },
  {
   "cell_type": "markdown",
   "metadata": {},
   "source": [
    "## Plots of ARI vs Leiden resolution\n",
    "\n",
    "Plot the ARI of the leiden clustering as a function of the resolution parameter, using a variety of ground-truth clustering datasets (particularly all of the grade-3 OC annotations, Kegg pathways, and CORUM complexes)."
   ]
  },
  {
   "cell_type": "code",
   "execution_count": null,
   "metadata": {},
   "outputs": [],
   "source": [
    "# number of random seeds for the Leiden clustering over which to average the ARI\n",
    "n_random_states = 20"
   ]
  },
  {
   "cell_type": "markdown",
   "metadata": {},
   "source": [
    "#### Using CORUM"
   ]
  },
  {
   "cell_type": "code",
   "execution_count": null,
   "metadata": {},
   "outputs": [],
   "source": [
    "# largest 5 clusters are those larger than 50 targets; largest 15 are those larger than 30\n",
    "ground_truth_labels.merge_corum(cwv.adata.obs, drop_largest=15)"
   ]
  },
  {
   "cell_type": "code",
   "execution_count": null,
   "metadata": {},
   "outputs": [],
   "source": [
    "ari_corum_all = cwv.calculate_ari(\n",
    "    ground_truth_label='corum_labels', n_random_states=n_random_states\n",
    ")"
   ]
  },
  {
   "cell_type": "code",
   "execution_count": null,
   "metadata": {},
   "outputs": [],
   "source": [
    "ari_corum_wo_largest = cwv.calculate_ari(\n",
    "    ground_truth_label='corum_labels_wo_largest', n_random_states=n_random_states\n",
    ")"
   ]
  },
  {
   "cell_type": "code",
   "execution_count": null,
   "metadata": {},
   "outputs": [],
   "source": [
    "# the number of targets in any CORUM cluster and in only one cluster\n",
    "(\n",
    "    (cwv.adata.obs.corum_labels != 'none').sum(),\n",
    "    (\n",
    "        (cwv.adata.obs.corum_labels != 'none') & \n",
    "        (cwv.adata.obs.corum_labels.str.split(';').apply(len) == 1)\n",
    "    ).sum()\n",
    ")"
   ]
  },
  {
   "cell_type": "markdown",
   "metadata": {},
   "source": [
    "#### Kegg pathways"
   ]
  },
  {
   "cell_type": "code",
   "execution_count": null,
   "metadata": {},
   "outputs": [],
   "source": [
    "cwv.adata.obs = ground_truth_labels.merge_kegg_pathways(cwv.adata.obs)\n",
    "ari_kegg_pathway = cwv.calculate_ari(\n",
    "    ground_truth_label='pathway_id', n_random_states=n_random_states\n",
    ")"
   ]
  },
  {
   "cell_type": "markdown",
   "metadata": {},
   "source": [
    "#### OpenCell annotations labels"
   ]
  },
  {
   "cell_type": "code",
   "execution_count": null,
   "metadata": {},
   "outputs": [],
   "source": [
    "# merge opencell annotations (the ocgt_label column)\n",
    "cwv.adata.obs = ground_truth_labels.merge_opencell_annotations(\n",
    "    cwv.adata.obs, data_dir / '2021-06-09-all-opencell-lines.json', only_count_grade_3=True\n",
    ")"
   ]
  },
  {
   "cell_type": "code",
   "execution_count": null,
   "metadata": {},
   "outputs": [],
   "source": [
    "# using our opencell ground-truth (single grade-3 annotations)\n",
    "ari_ocgt = cwv.calculate_ari(ground_truth_label='ocgt_label', n_random_states=n_random_states)"
   ]
  },
  {
   "cell_type": "code",
   "execution_count": null,
   "metadata": {},
   "outputs": [],
   "source": [
    "# count OC labels\n",
    "pd.concat(\n",
    "    (cwv.adata.obs.ocgt_label.value_counts(), cwv.adata.obs.grade_3_annotation.value_counts()),\n",
    "    axis=1\n",
    ")"
   ]
  },
  {
   "cell_type": "markdown",
   "metadata": {},
   "source": [
    "#### Plot OC, Kegg, CORUM ARIs"
   ]
  },
  {
   "cell_type": "code",
   "execution_count": null,
   "metadata": {},
   "outputs": [],
   "source": [
    "blue, orange, green, red, *_ = sns.color_palette('tab10')\n",
    "\n",
    "plt.figure(figsize=(8, 6))\n",
    "plt.gca().set_xlabel('Leiden resolution')\n",
    "plt.gca().set_ylabel('Adjusted rand index')\n",
    "\n",
    "x, y = 'resolution', 'ari'\n",
    "\n",
    "sns.lineplot(data=ari_ocgt, x=x, y=y, label='OpenCell annotations', color=blue)\n",
    "sns.lineplot(data=ari_kegg_pathway, x=x, y=y, label='Kegg pathways', color=green)\n",
    "sns.lineplot(data=ari_corum_all, x=x, y=y, label='CORUM clusters', color=red)\n",
    "sns.lineplot(data=ari_corum_wo_largest, x=x, y=y, label='CORUM clusters (w/o largest)', color=orange)\n",
    "\n",
    "# plot the median cluster size on the right-hand y-axis\n",
    "if True:\n",
    "    ax2 = plt.gca().twinx()\n",
    "    sns.lineplot(data=ari_ocgt, x=x, y='median_cluster_size', ax=ax2, color='gray')\n",
    "    ax2.set(xscale='log')\n",
    "    ax2.set(yscale='log')\n",
    "    ax2.set_ylabel('Number of clusters')\n",
    "\n",
    "plt.gca().set(xscale='log')\n",
    "plt.title('ARI for targets in only one ground-truth cluster')\n",
    "\n",
    "plt.savefig(\n",
    "    output_dir / ('%s-clustering-performance--ari-vs-leiden.pdf' % (timestamp(),)),\n",
    "    bbox_inches='tight'\n",
    ")"
   ]
  },
  {
   "cell_type": "markdown",
   "metadata": {},
   "source": [
    "#### Calculate the optimal resolutions for each ground-truth dataset"
   ]
  },
  {
   "cell_type": "code",
   "execution_count": null,
   "metadata": {},
   "outputs": [],
   "source": [
    "sc.tl.umap(cwv.adata, init_pos='spectral', min_dist=0.0, random_state=51)"
   ]
  },
  {
   "cell_type": "code",
   "execution_count": null,
   "metadata": {},
   "outputs": [],
   "source": [
    "def argmax(bm):\n",
    "    ari_mean = bm.groupby('resolution').mean()\n",
    "    return ari_mean.iloc[ari_mean.ari.argmax()].name"
   ]
  },
  {
   "cell_type": "code",
   "execution_count": null,
   "metadata": {},
   "outputs": [],
   "source": [
    "argmax(ari_ocgt), argmax(ari_kegg_pathway), argmax(ari_corum_all), argmax(ari_corum_wo_largest)"
   ]
  },
  {
   "cell_type": "markdown",
   "metadata": {},
   "source": [
    "### Aside: ARI curves using GO-slim and HPA labels\n",
    "This is unused."
   ]
  },
  {
   "cell_type": "code",
   "execution_count": null,
   "metadata": {},
   "outputs": [],
   "source": [
    "ground_truth_labels.merge_go_slim(cwv.adata.obs)"
   ]
  },
  {
   "cell_type": "code",
   "execution_count": null,
   "metadata": {},
   "outputs": [],
   "source": [
    "cwv.adata.obs['go_molecular_function'].str.split(';').explode().value_counts()"
   ]
  },
  {
   "cell_type": "code",
   "execution_count": null,
   "metadata": {},
   "outputs": [],
   "source": [
    "ari_go_cc = cwv.calculate_ari(ground_truth_label='go_cellular_component', n_random_states=3)\n",
    "ari_go_bp = cwv.calculate_ari(ground_truth_label='go_biological_process', n_random_states=3)\n",
    "ari_go_mf = cwv.calculate_ari(ground_truth_label='go_molecular_function', n_random_states=3)"
   ]
  },
  {
   "cell_type": "code",
   "execution_count": null,
   "metadata": {},
   "outputs": [],
   "source": [
    "# using HPA labels\n",
    "cwv.adata.obs = ground_truth_labels.merge_hpa_labels(cwv.adata.obs)\n",
    "ari_hpa = cwv.calculate_ari(ground_truth_label='hpa_main_location', n_random_states=9)"
   ]
  },
  {
   "cell_type": "code",
   "execution_count": null,
   "metadata": {},
   "outputs": [],
   "source": [
    "plt.figure(figsize=(8, 6))\n",
    "plt.gca().set_xlabel('Leiden resolution')\n",
    "plt.gca().set_ylabel('Adjusted rand index')\n",
    "\n",
    "x, y = 'resolution', 'ari'\n",
    "\n",
    "sns.lineplot(data=ari_ocgt, x=x, y=y, label='OC grade-3 labels')\n",
    "sns.lineplot(data=ari_go_cc, x=x, y=y, label='GO-Slim CC')\n",
    "sns.lineplot(data=ari_go_bp, x=x, y=y, label='GO-Slim BP')\n",
    "sns.lineplot(data=ari_go_mf, x=x, y=y, label='GO-Slim MF')\n",
    "\n",
    "ax2 = plt.gca().twinx()\n",
    "sns.lineplot(data=ari_ocgt, x=x, y='median_cluster_size', ax=ax2, color='gray')\n",
    "\n",
    "# this also sets the x-axis of left axis to log-scale\n",
    "ax2.set(xscale='log')\n",
    "\n",
    "ax2.set(yscale='log')\n",
    "ax2.set_ylabel('Median cluster size')\n",
    "\n",
    "plt.title('ARI for targets in only one ground-truth cluster')"
   ]
  },
  {
   "cell_type": "code",
   "execution_count": null,
   "metadata": {},
   "outputs": [],
   "source": [
    "ari_corum_all.groupby('resolution').mean()"
   ]
  },
  {
   "cell_type": "markdown",
   "metadata": {},
   "source": [
    "### Aside: simulate an ARI curve by partially shuffling ground-truth labels"
   ]
  },
  {
   "cell_type": "code",
   "execution_count": null,
   "metadata": {},
   "outputs": [],
   "source": [
    "def ari_for_shuffled_labels(labels, n):\n",
    "    labels_unshuffled = labels.copy()\n",
    "    np.random.shuffle(labels_unshuffled)\n",
    "    \n",
    "    labels_shuffled = labels_unshuffled.copy()\n",
    "    np.random.shuffle(labels_shuffled)\n",
    "\n",
    "    labels_mixed = np.concatenate((labels_unshuffled[:n], labels_shuffled[n:]), axis=0)\n",
    "    return sklearn.metrics.adjusted_rand_score(labels_unshuffled, labels_mixed),"
   ]
  },
  {
   "cell_type": "code",
   "execution_count": null,
   "metadata": {},
   "outputs": [],
   "source": [
    "d = cwv.adata.obs.copy()\n",
    "labels = d['cluster_id_leiden_res3_seed18'].values\n",
    "\n",
    "labels = d.ocgt_label.values\n",
    "labels = labels[labels != 'none'].copy()\n",
    "\n",
    "sim_aris = []\n",
    "for n in np.arange(0, len(labels), 100):\n",
    "    ari = np.mean([ari_for_shuffled_labels(labels, n) for _ in range(2)])\n",
    "    sim_aris.append((n, ari))"
   ]
  },
  {
   "cell_type": "code",
   "execution_count": null,
   "metadata": {},
   "outputs": [],
   "source": [
    "sim_aris = np.array(sim_aris)\n",
    "plt.plot(sim_aris[:, 0]/len(labels), sim_aris[:, 1])"
   ]
  },
  {
   "cell_type": "code",
   "execution_count": null,
   "metadata": {},
   "outputs": [],
   "source": [
    "sim_aris = np.array(sim_aris)\n",
    "plt.plot(sim_aris[:, 0]/len(labels), sim_aris[:, 1])"
   ]
  },
  {
   "cell_type": "markdown",
   "metadata": {},
   "source": [
    "### Enrichment of Kegg pathways in each cluster (at the kegg-optimized clustering resolution)"
   ]
  },
  {
   "cell_type": "code",
   "execution_count": null,
   "metadata": {},
   "outputs": [],
   "source": [
    "# kegg pathway_ids and cluster_ids at the optimal resolution for kegg\n",
    "df = cwv.adata.obs[['ensg_id', 'pathway_id', 'cluster_id_leiden_res6.31_seed44']].copy()\n",
    "df.rename(\n",
    "    columns={\n",
    "        'pathway_id': 'label_id'\n",
    "        'cluster_id_leiden_res6.31_seed44': 'cluster_id', \n",
    "    }, \n",
    "    inplace=True\n",
    ")"
   ]
  },
  {
   "cell_type": "code",
   "execution_count": null,
   "metadata": {},
   "outputs": [],
   "source": [
    "df['label_id'] = df.label_id.str.split(';')\n",
    "df = df.explode('label_id')\n",
    "\n",
    "# drop targets not in a pathway\n",
    "df = df.loc[df.label_id != 'none']\n",
    "\n",
    "df.shape"
   ]
  },
  {
   "cell_type": "code",
   "execution_count": null,
   "metadata": {},
   "outputs": [],
   "source": [
    "df.ensg_id.unique().shape, df.cluster_id.unique().shape, df.label_id.unique().shape"
   ]
  },
  {
   "cell_type": "code",
   "execution_count": null,
   "metadata": {},
   "outputs": [],
   "source": [
    "ena = go_utils.calc_enrichment_pvals(df)"
   ]
  },
  {
   "cell_type": "code",
   "execution_count": null,
   "metadata": {},
   "outputs": [],
   "source": [
    "# merge pathway names, sort, rename cluster columns\n",
    "pathways = ground_truth_labels.load_kegg_pathways()\n",
    "ena_final = (\n",
    "    ena\n",
    "    .loc[ena.corrected_pval < 0.05]\n",
    "    .merge(\n",
    "        pathways.groupby(['pathway_id']).first().reset_index()[['pathway_id', 'pathway_name']],\n",
    "        left_on='label_id',\n",
    "        right_on='pathway_id',\n",
    "    )\n",
    "    .sort_values(by=['cluster_id', 'corrected_pval'])\n",
    "    .rename(columns={'cluster_id': 'cluster_id_leiden_res6.31_seed44', 'label_id': 'pathway_id'})\n",
    ")\n",
    "ena_final"
   ]
  },
  {
   "cell_type": "code",
   "execution_count": null,
   "metadata": {},
   "outputs": [],
   "source": [
    "ena_final.to_csv(output_dir / ('%s-kegg-pathway-enrichment.csv' % timestamp()), index=False)"
   ]
  },
  {
   "cell_type": "code",
   "execution_count": null,
   "metadata": {},
   "outputs": [],
   "source": [
    "sc.pl.umap(cwv.adata, color='cluster_id_leiden_res0.63_seed41', palette='tab10', alpha=0.5)"
   ]
  },
  {
   "cell_type": "markdown",
   "metadata": {},
   "source": [
    "### Aside: plots of F1 score vs Leiden resolution (using k-clique analysis)\n",
    "\n",
    "This is not used. Note that the curves of F1 score and cumulative precision look the same for max_clique of 2 and 3."
   ]
  },
  {
   "cell_type": "code",
   "execution_count": null,
   "metadata": {},
   "outputs": [],
   "source": [
    "corum_kclique = cwv.calculate_kclique_metrics(\n",
    "    drop_largest=False, max_clique=3, n_random_states=3\n",
    ")\n",
    "\n",
    "corum_kclique_wo_largest = cwv.calculate_kclique_metrics(\n",
    "    drop_largest=True, max_clique=3, n_random_states=3\n",
    ")"
   ]
  },
  {
   "cell_type": "code",
   "execution_count": null,
   "metadata": {},
   "outputs": [],
   "source": [
    "plt.figure(figsize=(8, 6))\n",
    "sns.lineplot(\n",
    "    data=corum_kclique, x='resolution', y='grand_f1_score', label='Grand F1 score'\n",
    ")\n",
    "sns.lineplot(\n",
    "    data=corum_kclique_wo_largest, x='resolution', y='grand_f1_score', label='Grand F1 score (w/o largest)'\n",
    ")\n",
    "\n",
    "plt.gca().set(xscale='log')"
   ]
  },
  {
   "cell_type": "code",
   "execution_count": null,
   "metadata": {},
   "outputs": [],
   "source": [
    "len(set(cwv.adata.obs.corum_labels.str.split(';').explode().values))"
   ]
  },
  {
   "cell_type": "markdown",
   "metadata": {},
   "source": [
    "### Sankey plot comparing OC annotations to low-resolution Leiden clusters"
   ]
  },
  {
   "cell_type": "code",
   "execution_count": null,
   "metadata": {},
   "outputs": [],
   "source": [
    "cwv.run_leiden(resolution=0.63, random_state=44)\n",
    "\n",
    "# hard-coded label order for OC grade_23_annotation_set\n",
    "ground_truth_label_order = [\n",
    "    'nucleolus_fc_dfc',\n",
    "    'nucleolus_gc',\n",
    "    'nuclear_punctae',\n",
    "    'nuclear_punctae, nucleoplasm',\n",
    "    'nucleoplasm',\n",
    "    'chromatin',\n",
    "    'nuclear_membrane',\n",
    "    'cytoplasmic, nucleoplasm',\n",
    "    'cytoplasmic',\n",
    "    #'cytoplasmic, small_aggregates',\n",
    "    #'cytoplasmic, membrane',\n",
    "    'membrane',\n",
    "    'centrosome',\n",
    "    'vesicles',\n",
    "    'golgi',\n",
    "    'er',\n",
    "]\n",
    "\n",
    "# for res=0.63, random_state=44, using grade_23_annotation_set\n",
    "predicted_label_order = [str(d) for d in [ 6, 10, 1, 9, 8, 5, 4, 2, 3, 0, 7]]\n",
    "\n",
    "sankey_colormap = cwv.plot_sankey(\n",
    "    ground_truth_label='grade_23_annotation_set',\n",
    "    predicted_label='leiden',\n",
    "    ground_truth_label_order=ground_truth_label_order[::-1],\n",
    "    predicted_label_order=predicted_label_order[::-1]\n",
    ")\n",
    "plt.savefig(\n",
    "    output_dir / ('%s-clustering-performance--oc-sankey-at-res0.63-seed44-flipped-w-sets.pdf' % (timestamp(),)),\n",
    "    bbox_inches='tight'\n",
    ")"
   ]
  },
  {
   "cell_type": "code",
   "execution_count": null,
   "metadata": {},
   "outputs": [],
   "source": [
    "# plot the target UMAP colored by the low-res clusters \n",
    "# (must be done manually because sc.pl.umap generates a figure that is rasterized)\n",
    "cwv.run_leiden(resolution=0.63, random_state=44)\n",
    "sc.tl.umap(cwv.adata, init_pos='spectral', min_dist=0, random_state=51)\n",
    "\n",
    "sankey_colormap['none'] = '#999999'\n",
    "umap_coords = cwv.adata.obsm['X_umap']\n",
    "umap_colors = [sankey_colormap[cluster_id] for cluster_id in cwv.adata.obs.leiden]\n",
    "\n",
    "fig, axs = plt.subplots(1, 1, figsize=(5, 5))\n",
    "for cluster_id in sorted(cwv.adata.obs.leiden.unique()):\n",
    "    mask = cwv.adata.obs.leiden == cluster_id\n",
    "    plt.scatter(\n",
    "        umap_coords[mask, 0], \n",
    "        umap_coords[mask, 1], \n",
    "        color=sankey_colormap[cluster_id], \n",
    "        alpha=0.7, \n",
    "        label=cluster_id\n",
    "    )\n",
    "plt.legend()\n",
    "\n",
    "fig.savefig(\n",
    "    output_dir / ('%s-clustering-performance--umap-at-res0.63-seed44.pdf' % (timestamp(),)),\n",
    "    bbox_inches='tight'\n",
    ")"
   ]
  },
  {
   "cell_type": "code",
   "execution_count": null,
   "metadata": {},
   "outputs": [],
   "source": [
    "# plot the UMAP colored with a given leiden clustering\n",
    "fig, axs = plt.subplots(1, 1, figsize=(5, 5))\n",
    "cwv.run_leiden(resolution=25, random_state=40)\n",
    "cwv.plot_umap(\n",
    "    color_label='leiden', min_dist=0.0, ax=axs, init_pos='spectral', random_state=51, palette='tab20'\n",
    ")"
   ]
  },
  {
   "cell_type": "code",
   "execution_count": null,
   "metadata": {},
   "outputs": [],
   "source": [
    "# the most common labels in a leiden cluster\n",
    "d = cwv.adata.obs.copy()\n",
    "n = d.loc[d.leiden.isin(['19',])].grade_3_annotation.value_counts()\n",
    "n.iloc[:5]"
   ]
  },
  {
   "cell_type": "markdown",
   "metadata": {},
   "source": [
    "### Aside: inspect the KEGG pathways"
   ]
  },
  {
   "cell_type": "code",
   "execution_count": null,
   "metadata": {},
   "outputs": [],
   "source": [
    "kegg_pathways = ground_truth_labels.load_kegg_pathways(drop_largest=3)"
   ]
  },
  {
   "cell_type": "code",
   "execution_count": null,
   "metadata": {},
   "outputs": [],
   "source": [
    "kegg_pathways.pathway_name.value_counts().head(15)"
   ]
  },
  {
   "cell_type": "code",
   "execution_count": null,
   "metadata": {},
   "outputs": [],
   "source": [
    "# targets in any pathway\n",
    "len(set(cwv.adata.obs.uniprot_id).intersection(kegg_pathways.uniprot_id))"
   ]
  },
  {
   "cell_type": "code",
   "execution_count": null,
   "metadata": {},
   "outputs": [],
   "source": [
    "# pathways with at least one target (excluding the largest pathways)\n",
    "pathways_in_oc = kegg_pathways[\n",
    "    kegg_pathways.uniprot_id.isin(cwv.adata.obs.uniprot_id) \n",
    "]\n",
    "pathways_in_oc.shape"
   ]
  },
  {
   "cell_type": "code",
   "execution_count": null,
   "metadata": {},
   "outputs": [],
   "source": [
    "_ = plt.hist(pathways_in_oc.uniprot_id.value_counts(), bins=30)"
   ]
  },
  {
   "cell_type": "code",
   "execution_count": null,
   "metadata": {},
   "outputs": [],
   "source": [
    "pathways_in_oc.uniprot_id.value_counts().value_counts()"
   ]
  },
  {
   "cell_type": "code",
   "execution_count": null,
   "metadata": {},
   "outputs": [],
   "source": [
    "# targets in only one pathway\n",
    "(pathways_in_oc.uniprot_id.value_counts() == 1).sum()"
   ]
  },
  {
   "cell_type": "code",
   "execution_count": null,
   "metadata": {},
   "outputs": [],
   "source": [
    "# number of pathway-unique targets in each pathway\n",
    "n = pathways_in_oc.uniprot_id.value_counts()\n",
    "(\n",
    "    pathways_in_oc.loc[pathways_in_oc.uniprot_id.isin(n.loc[n == 1].index.values)]\n",
    "    .pathway_name\n",
    "    .value_counts()\n",
    "    .head(10)\n",
    ")"
   ]
  },
  {
   "cell_type": "markdown",
   "metadata": {},
   "source": [
    "### Aside: inspect GO-slim annotations"
   ]
  },
  {
   "cell_type": "code",
   "execution_count": null,
   "metadata": {},
   "outputs": [],
   "source": [
    "ocgoslim = ground_truth_labels.load_go_slim()"
   ]
  },
  {
   "cell_type": "code",
   "execution_count": null,
   "metadata": {},
   "outputs": [],
   "source": [
    "ocgoslim.go_label.value_counts().head(10)"
   ]
  },
  {
   "cell_type": "code",
   "execution_count": null,
   "metadata": {},
   "outputs": [],
   "source": [
    "ocgoslim = ocgoslim.loc[\n",
    "    ~ocgoslim.go_label.isin(['cytosol', 'nucleus', 'nucleoplasm', 'cytoplasm'])\n",
    "]"
   ]
  },
  {
   "cell_type": "code",
   "execution_count": null,
   "metadata": {},
   "outputs": [],
   "source": [
    "# number of targets with only one annotation from each type/aspect\n",
    "# aside: dropping the four most common annotations increases the count of targets\n",
    "# with only one CC label from 208 to 455\n",
    "for go_type in ocgoslim.go_type.unique():\n",
    "    n = ocgoslim.loc[ocgoslim.go_type == go_type].uniprot_id.value_counts()\n",
    "    print('%s: %s' % (go_type, (n == 1).sum()))"
   ]
  },
  {
   "cell_type": "code",
   "execution_count": null,
   "metadata": {},
   "outputs": [],
   "source": [
    "(cwv.adata.obs.go_cellular_component != 'none').sum()"
   ]
  },
  {
   "cell_type": "markdown",
   "metadata": {},
   "source": [
    "### Aside: Measure the kNN accuracy of PCA vs UMAP coordinates"
   ]
  },
  {
   "cell_type": "code",
   "execution_count": null,
   "metadata": {},
   "outputs": [],
   "source": [
    "cwv.calculate_neighbors(n_neighbors=10, n_pcs=200, metric='euclidean')\n",
    "sc.tl.umap(cwv.adata, init_pos='spectral', min_dist=0, n_components=2, random_state=51)"
   ]
  },
  {
   "cell_type": "code",
   "execution_count": null,
   "metadata": {},
   "outputs": [],
   "source": [
    "plt.figure(figsize=(6, 6))\n",
    "sc.pl.umap(\n",
    "    cwv.adata, color='grade_3_annotation', palette='tab10', alpha=0.5, legend_loc=None, ax=plt.gca()\n",
    ")"
   ]
  },
  {
   "cell_type": "code",
   "execution_count": null,
   "metadata": {},
   "outputs": [],
   "source": [
    "n_neighbors = [3, 10]\n",
    "\n",
    "num_shared_neighbors = np.zeros((len(n_neighbors), len(n_neighbors))).tolist()\n",
    "fig, axs = plt.subplots(len(n_neighbors), len(n_neighbors), figsize=(10, 7.5))\n",
    "\n",
    "for ind0, k0 in enumerate(n_neighbors):\n",
    "    for ind1, k1 in enumerate(n_neighbors):\n",
    "        ax = axs[ind0][ind1]\n",
    "        \n",
    "        X = cwv.adata.obsm['X_pca'].copy()\n",
    "        nns = sklearn.neighbors.NearestNeighbors(\n",
    "            n_neighbors=(k0 + 1), algorithm='brute', metric='correlation'\n",
    "        )\n",
    "        distances, indices_pca = nns.fit(X).kneighbors(X)\n",
    "\n",
    "        X = cwv.adata.obsm['X_umap'].copy()\n",
    "        nns = sklearn.neighbors.NearestNeighbors(\n",
    "            n_neighbors=(k1 + 1), algorithm='brute', metric='euclidean'\n",
    "        )\n",
    "        distances_umap, indices_umap = nns.fit(X).kneighbors(X)\n",
    "        \n",
    "        # the number of shared neighbors for each target (subtract one for each target itself)\n",
    "        num_shared_neighbors[ind0][ind1] = [\n",
    "            len(set(indices_pca[ind, :]).intersection(indices_umap[ind, :])) - 1\n",
    "            for ind in range(indices_pca.shape[0])\n",
    "        ]\n",
    "\n",
    "        counts, edges = np.histogram(\n",
    "            num_shared_neighbors[ind0][ind1], bins=np.arange(0, max(n_neighbors)), density=True\n",
    "        )\n",
    "        ax.bar(edges[:-1], counts)\n",
    "        ax.set_ylim([0, 1])\n",
    "        ax.set_xticks(range(max(n_neighbors)))\n",
    "        ax.set_yticks([0, .25, 0.5, 0.75, 1])"
   ]
  },
  {
   "cell_type": "code",
   "execution_count": null,
   "metadata": {},
   "outputs": [],
   "source": [
    "dists = sklearn.metrics.pairwise_distances(cwv.adata.obsm['X_pca'], metric='correlation')\n",
    "_ = plt.hist(1 - dists.flatten(), bins=100)"
   ]
  },
  {
   "cell_type": "code",
   "execution_count": null,
   "metadata": {},
   "outputs": [],
   "source": []
  }
 ],
 "metadata": {
  "kernelspec": {
   "display_name": "scanpyenv",
   "language": "python",
   "name": "scanpyenv"
  },
  "language_info": {
   "codemirror_mode": {
    "name": "ipython",
    "version": 3
   },
   "file_extension": ".py",
   "mimetype": "text/x-python",
   "name": "python",
   "nbconvert_exporter": "python",
   "pygments_lexer": "ipython3",
   "version": "3.7.9"
  }
 },
 "nbformat": 4,
 "nbformat_minor": 4
}
