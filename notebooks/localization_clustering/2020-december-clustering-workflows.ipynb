{
 "cells": [
  {
   "cell_type": "markdown",
   "metadata": {},
   "source": [
    "## Documentation of image-based clustering analysis \n",
    "\n",
    "This notebook is not used for the OpenCell publication. It documents historical attempts to analyze the target localization encodings (that is, the latent-space representations  of the trained cytoself model). "
   ]
  },
  {
   "cell_type": "code",
   "execution_count": null,
   "metadata": {},
   "outputs": [],
   "source": [
    "import anndata as ad\n",
    "import IPython\n",
    "import json\n",
    "import leidenalg\n",
    "import numpy as np\n",
    "import os\n",
    "import pandas as pd\n",
    "\n",
    "import sknetwork\n",
    "import scanpy as sc\n",
    "import scanpy.external as sce\n",
    "import sklearn.cluster\n",
    "import sklearn.manifold\n",
    "import sklearn.decomposition\n",
    "import sys\n",
    "\n",
    "from matplotlib import pyplot as plt\n",
    "from matplotlib import rcParams"
   ]
  },
  {
   "cell_type": "code",
   "execution_count": null,
   "metadata": {},
   "outputs": [],
   "source": [
    "%load_ext autoreload\n",
    "%autoreload 1\n",
    "\n",
    "sys.path.append('../scripts/')\n",
    "%aimport cytoself_analysis.clustering_workflows\n",
    "%aimport cytoself_analysis.ground_truth_labels\n",
    "\n",
    "from cytoself_analysis import (\n",
    "    loaders, clustering_workflows, ground_truth_labels, analysis_utils, go_utils\n",
    ")"
   ]
  },
  {
   "cell_type": "code",
   "execution_count": null,
   "metadata": {},
   "outputs": [],
   "source": [
    "sc.settings.set_figure_params(dpi=80, facecolor='white', frameon=False)\n",
    "rcParams['font.family'] = 'sans-serif'\n",
    "rcParams['axes.grid'] = False"
   ]
  },
  {
   "cell_type": "code",
   "execution_count": null,
   "metadata": {},
   "outputs": [],
   "source": [
    "# optional: update the cached lines/ payloads\n",
    "ground_truth_labels.cache_target_metadata(data_dirpath=os.path.abspath('../data'))"
   ]
  },
  {
   "cell_type": "code",
   "execution_count": null,
   "metadata": {},
   "outputs": [],
   "source": [
    "root_dirpath = '/Users/keith.cheveralls/clustering-results'\n",
    "res = loaders.load_december_results(root_dirpath=root_dirpath, dataset='full', rep=3)"
   ]
  },
  {
   "cell_type": "code",
   "execution_count": null,
   "metadata": {},
   "outputs": [],
   "source": [
    "res.test_labels.shape, res.test_vq2.shape, res.test_vq1_ind.shape, res.test_vq2_ind.shape"
   ]
  },
  {
   "cell_type": "code",
   "execution_count": null,
   "metadata": {},
   "outputs": [],
   "source": [
    "res.concatenate_orphans()"
   ]
  },
  {
   "cell_type": "code",
   "execution_count": null,
   "metadata": {},
   "outputs": [],
   "source": [
    "res.test_labels.shape, res.test_vq2.shape, res.test_vq2_ind.shape"
   ]
  },
  {
   "cell_type": "code",
   "execution_count": null,
   "metadata": {},
   "outputs": [],
   "source": [
    "res.test_labels = ground_truth_labels.merge_all(\n",
    "    df=res.test_labels, data_dirpath=os.path.abspath('../data')\n",
    ")"
   ]
  },
  {
   "cell_type": "markdown",
   "metadata": {},
   "source": [
    "### Create the ClusteringWorkflow instances"
   ]
  },
  {
   "cell_type": "code",
   "execution_count": null,
   "metadata": {},
   "outputs": [],
   "source": [
    "# for vectors\n",
    "adata = res.export_adata(\n",
    "    vq='vq2', kind='vectors', using='mean', rerun=True, pub_ready_only=True\n",
    ")"
   ]
  },
  {
   "cell_type": "code",
   "execution_count": null,
   "metadata": {},
   "outputs": [],
   "source": [
    "adata.obs.shape"
   ]
  },
  {
   "cell_type": "code",
   "execution_count": null,
   "metadata": {},
   "outputs": [],
   "source": [
    "# vectors\n",
    "cwv = clustering_workflows.ClusteringWorkflow(adata=adata)\n",
    "cwv.preprocess(\n",
    "    do_log1p=False,\n",
    "    do_scaling=False,\n",
    "    n_top_genes=None,\n",
    "    n_pcs=200,\n",
    ")\n",
    "cwv.calculate_neighbors(n_neighbors=10, n_pcs=200, metric='euclidean')"
   ]
  },
  {
   "cell_type": "code",
   "execution_count": null,
   "metadata": {},
   "outputs": [],
   "source": [
    "# adjacencies from the raw data (without PCA)\n",
    "# sc.pp.neighbors(cwv.adata, n_neighbors=10, use_rep='X', metric='correlation')"
   ]
  },
  {
   "cell_type": "code",
   "execution_count": null,
   "metadata": {},
   "outputs": [],
   "source": []
  },
  {
   "cell_type": "code",
   "execution_count": null,
   "metadata": {},
   "outputs": [],
   "source": [
    "# for histograms\n",
    "adata = res.export_adata(vq='vq1', kind='histograms')\n",
    "cwh1 = clustering_workflows.ClusteringWorkflow(adata=adata)"
   ]
  },
  {
   "cell_type": "code",
   "execution_count": null,
   "metadata": {},
   "outputs": [],
   "source": [
    "# for histograms\n",
    "adata = res.export_adata(vq='vq2', kind='histograms')\n",
    "cwh2 = clustering_workflows.ClusteringWorkflow(adata=adata)"
   ]
  },
  {
   "cell_type": "code",
   "execution_count": null,
   "metadata": {},
   "outputs": [],
   "source": [
    "# VQ1 histograms\n",
    "cwh1.preprocess(\n",
    "    do_log1p=True,\n",
    "    do_scaling=True,\n",
    "    n_top_genes=None,\n",
    "    n_pcs=200,\n",
    ")\n",
    "cwh1.calculate_neighbors(n_neighbors=10, n_pcs=200, metric='correlation')"
   ]
  },
  {
   "cell_type": "code",
   "execution_count": null,
   "metadata": {},
   "outputs": [],
   "source": [
    "# VQ2 histograms\n",
    "cwh2.preprocess(\n",
    "    do_log1p=True,\n",
    "    do_scaling=True,\n",
    "    n_top_genes=None,\n",
    "    n_pcs=200,\n",
    ")\n",
    "cwh2.calculate_neighbors(n_neighbors=10, n_pcs=200, metric='correlation')"
   ]
  },
  {
   "cell_type": "code",
   "execution_count": null,
   "metadata": {},
   "outputs": [],
   "source": [
    "# aside: how to calculate neighbors directly from the raw vectors\n",
    "sc.pp.neighbors(cwh2.adata, use_rep='X', n_neighbors=10, metric='correlation')"
   ]
  },
  {
   "cell_type": "code",
   "execution_count": null,
   "metadata": {},
   "outputs": [],
   "source": [
    "plt.figure(figsize=(16, 3))\n",
    "labels = cwh.adata.obs.copy()\n",
    "ind = labels.loc[labels.target_name == 'C4orf32'].index[0]\n",
    "plt.plot(cwh.adata.X[int(ind), :])\n",
    "\n",
    "ind = labels.loc[labels.target_name == 'TMEM208'].index[0]\n",
    "plt.plot(cwh.adata.X[int(ind), :], alpha=0.7)"
   ]
  },
  {
   "cell_type": "code",
   "execution_count": null,
   "metadata": {},
   "outputs": [],
   "source": [
    "# the number of patches per cell line\n",
    "_ = plt.hist(res.test_labels.cell_line_id.value_counts().values, bins=100)"
   ]
  },
  {
   "cell_type": "code",
   "execution_count": null,
   "metadata": {},
   "outputs": [],
   "source": [
    "pca = res.plot_explained_variance(res.target_vectors['vq2']['X'], n_dims=50)"
   ]
  },
  {
   "cell_type": "markdown",
   "metadata": {},
   "source": [
    "### Compare the computed adata to the cached adata object used by the umap-viewer app"
   ]
  },
  {
   "cell_type": "code",
   "execution_count": null,
   "metadata": {},
   "outputs": [],
   "source": [
    "filepath = os.path.join(res.exports_dirpath, '%s-target-%s-adata.h5ad' % ('vq2', 'vectors'))\n",
    "adata = ad.read_h5ad(filepath)"
   ]
  },
  {
   "cell_type": "code",
   "execution_count": null,
   "metadata": {},
   "outputs": [],
   "source": [
    "adata.X.shape"
   ]
  },
  {
   "cell_type": "code",
   "execution_count": null,
   "metadata": {},
   "outputs": [],
   "source": [
    "# rows in which any elements are different\n",
    "np.argwhere(np.any(cwv.adata.X.toarray() != adata.X.toarray(), axis=1))"
   ]
  },
  {
   "cell_type": "code",
   "execution_count": null,
   "metadata": {},
   "outputs": [],
   "source": [
    "# rows in which any elements are different\n",
    "np.argwhere(\n",
    "    np.any(\n",
    "        cwv.adata.obsp['connectivities'].toarray() != adata.obsp['connectivities'].toarray(),\n",
    "        axis=1\n",
    "    )\n",
    ")"
   ]
  },
  {
   "cell_type": "code",
   "execution_count": null,
   "metadata": {},
   "outputs": [],
   "source": [
    "sc.tl.umap(cwv.adata, init_pos='spectral', min_dist=0.0, random_state=42)"
   ]
  },
  {
   "cell_type": "code",
   "execution_count": null,
   "metadata": {},
   "outputs": [],
   "source": [
    "np.argwhere(np.any(cwv.adata.obsm['X_umap'] != adata.obsm['X_umap'], axis=1))"
   ]
  },
  {
   "cell_type": "markdown",
   "metadata": {},
   "source": [
    "### Load the ClusteringWorkflow from the cached adata object used by the umap viewer"
   ]
  },
  {
   "cell_type": "code",
   "execution_count": null,
   "metadata": {},
   "outputs": [],
   "source": [
    "# vectors\n",
    "cwv = clustering_workflows.ClusteringWorkflow(adata=adata)\n",
    "cwv.preprocess(\n",
    "    do_log1p=False,\n",
    "    do_scaling=False,\n",
    "    n_top_genes=None,\n",
    "    n_pcs=200,\n",
    ")\n",
    "cwv.calculate_neighbors(n_neighbors=10, n_pcs=200, metric='euclidean')"
   ]
  },
  {
   "cell_type": "markdown",
   "metadata": {},
   "source": [
    "## 2D UMAPs"
   ]
  },
  {
   "cell_type": "code",
   "execution_count": null,
   "metadata": {},
   "outputs": [],
   "source": [
    "cw = cwv\n",
    "sc.tl.umap(cw.adata, init_pos='spectral', min_dist=0.0, random_state=51)"
   ]
  },
  {
   "cell_type": "code",
   "execution_count": null,
   "metadata": {},
   "outputs": [],
   "source": [
    "sc.pl.umap(cw.adata, color='grade_3_annotation', palette='tab10', alpha=0.5)"
   ]
  },
  {
   "cell_type": "code",
   "execution_count": null,
   "metadata": {},
   "outputs": [],
   "source": [
    "# compare UMAPs from histograms and vectors\n",
    "fig, axs = plt.subplots(1, 2, figsize=(16, 7))\n",
    "\n",
    "sc.pl.umap(cwv.adata, color='grade_3_annotation', palette='tab10', alpha=0.5, ax=axs[0])\n",
    "axs[0].set_title('VQ2 vectors')\n",
    "\n",
    "sc.pl.umap(cwh2.adata, color='grade_3_annotation', palette='tab10', alpha=0.5, ax=axs[1])\n",
    "axs[1].set_title('VQ2 histograms')"
   ]
  },
  {
   "cell_type": "markdown",
   "metadata": {},
   "source": [
    "### Leiden clustering at a range of resolutions and with multiple seeds"
   ]
  },
  {
   "cell_type": "code",
   "execution_count": null,
   "metadata": {},
   "outputs": [],
   "source": [
    "# drop all existing cluster_id columns\n",
    "cwv.adata.obs.drop(\n",
    "    labels=[col for col in cwv.adata.obs.columns if col.startswith('cluster_id')], \n",
    "    axis=1, \n",
    "    inplace=True\n",
    ")"
   ]
  },
  {
   "cell_type": "code",
   "execution_count": null,
   "metadata": {},
   "outputs": [],
   "source": [
    "seeds = range(10, 20)\n",
    "resolutions = [\n",
    "    0.1, 0.25, 0.5, 1, 2, 3, 4, 5, 10, 15, 20, 30, 40, 50, 60, 70, 80, 90, 100\n",
    "]"
   ]
  },
  {
   "cell_type": "code",
   "execution_count": null,
   "metadata": {},
   "outputs": [],
   "source": [
    "# range of random seeds at resolution=30\n",
    "for seed in seeds:\n",
    "    cwv.run_leiden(\n",
    "        resolution=30, \n",
    "        random_state=seed, \n",
    "        key_added='cluster_id_leiden_res30_seed%s' % seed\n",
    "    )"
   ]
  },
  {
   "cell_type": "code",
   "execution_count": null,
   "metadata": {},
   "outputs": [],
   "source": [
    "# range of resolutions with random_state=42\n",
    "for resolution in resolutions:\n",
    "    cwv.run_leiden(\n",
    "        resolution=resolution, \n",
    "        random_state=42, \n",
    "        key_added='cluster_id_leiden_res%s' % resolution\n",
    "    )"
   ]
  },
  {
   "cell_type": "code",
   "execution_count": null,
   "metadata": {},
   "outputs": [],
   "source": [
    "# range of random seeds and range of resolutions\n",
    "for resolution in resolutions: \n",
    "    for seed in seeds:\n",
    "        cwv.run_leiden(\n",
    "            resolution=resolution, \n",
    "            random_state=seed, \n",
    "            key_added='cluster_id_leiden_res%s_seed%s' % (resolution, seed)\n",
    "        )"
   ]
  },
  {
   "cell_type": "code",
   "execution_count": null,
   "metadata": {},
   "outputs": [],
   "source": [
    "d = cwv.adata.obs.copy()"
   ]
  },
  {
   "cell_type": "code",
   "execution_count": null,
   "metadata": {},
   "outputs": [],
   "source": [
    "cluster_id = d.loc[d.target_name == 'OSTC']['cluster_id_leiden_seed42'].iloc[0] \n",
    "d.loc[d['cluster_id_leiden_seed42'] == cluster_id]"
   ]
  },
  {
   "cell_type": "code",
   "execution_count": null,
   "metadata": {},
   "outputs": [],
   "source": [
    "# compare the clusters from different random seeds\n",
    "from sklearn import metrics\n",
    "metrics.adjusted_rand_score(\n",
    "    cwv.adata.obs['cluster_id_leiden_seed42'], cwv.adata.obs['cluster_id_leiden_seed48']\n",
    ")"
   ]
  },
  {
   "cell_type": "raw",
   "metadata": {},
   "source": [
    "# deprecated export of the clustering results with all leiden resolutions\n",
    "df = cwv.adata.obs.copy()\n",
    "df.to_csv(\n",
    "    '/Users/keith.cheveralls/clustering-results/exports/'\n",
    "    '2020-december-results-full-rep3--only-pub-ready--mean-VQ2-vectors--n_pcs=200--n_neighbors=10--all-leiden.csv',\n",
    "    index=False\n",
    ")"
   ]
  },
  {
   "cell_type": "markdown",
   "metadata": {},
   "source": [
    "### Find the random seed for Leiden clustering that yields the greatest modularity"
   ]
  },
  {
   "cell_type": "code",
   "execution_count": null,
   "metadata": {},
   "outputs": [],
   "source": [
    "adj = cwv.adata.obsp['connectivities'].toarray()\n",
    "graph = sc._utils.get_igraph_from_adjacency(adj, directed=True)"
   ]
  },
  {
   "cell_type": "code",
   "execution_count": null,
   "metadata": {},
   "outputs": [],
   "source": [
    "qualities = []\n",
    "for seed in range(1000):\n",
    "    cwv.run_leiden(resolution=30, random_state=seed)\n",
    "    labels = [int(val) for val in cwv.adata.obs.leiden]\n",
    "    mvp = leidenalg.RBConfigurationVertexPartition(\n",
    "        graph, resolution_parameter=30, initial_membership=labels\n",
    "    )\n",
    "    qualities.append(mvp.quality())"
   ]
  },
  {
   "cell_type": "code",
   "execution_count": null,
   "metadata": {},
   "outputs": [],
   "source": [
    "_ = plt.hist(qualities, bins=30)"
   ]
  },
  {
   "cell_type": "code",
   "execution_count": null,
   "metadata": {},
   "outputs": [],
   "source": [
    "best_seed = np.argmax(qualities)\n",
    "best_seed"
   ]
  },
  {
   "cell_type": "code",
   "execution_count": null,
   "metadata": {},
   "outputs": [],
   "source": [
    "min(qualities), max(qualities)"
   ]
  },
  {
   "cell_type": "code",
   "execution_count": null,
   "metadata": {},
   "outputs": [],
   "source": [
    "seed = 304\n",
    "cwv.run_leiden(\n",
    "    resolution=30, random_state=seed, key_added='cluster_id_leiden_res30_seed%s' % seed\n",
    ")"
   ]
  },
  {
   "cell_type": "code",
   "execution_count": null,
   "metadata": {},
   "outputs": [],
   "source": [
    "# export the clustering results\n",
    "df = cwv.adata.obs.copy()[['cell_line_id', 'target_name', 'plate_id', 'well_id', 'leiden']]\n",
    "df.to_csv(\n",
    "    '/Users/keith.cheveralls/clustering-results/exports/'\n",
    "    '2020-december-results-full-rep3--only-pub-ready--mean-VQ2-vectors--n_pcs=200--n_neighbors=10--best-leiden--res=30.csv',\n",
    "    index=False\n",
    ")"
   ]
  },
  {
   "cell_type": "code",
   "execution_count": null,
   "metadata": {},
   "outputs": [],
   "source": []
  },
  {
   "cell_type": "markdown",
   "metadata": {},
   "source": [
    "### Identify 'stable' clusters of targets that are always in the same Leiden cluster"
   ]
  },
  {
   "cell_type": "code",
   "execution_count": null,
   "metadata": {},
   "outputs": [],
   "source": [
    "obs = cwv.adata.obs.copy()\n",
    "# obs.reset_index(inplace=True)\n",
    "\n",
    "leiden_columns = ['cluster_id_leiden_res30_seed%s' % seed for seed in range(10, 20)]\n",
    "\n",
    "num_targets = obs.shape[0]\n",
    "connectivities = np.zeros((num_targets, num_targets), dtype=int)\n",
    "leiden_ids = obs[leiden_columns].values\n",
    "\n",
    "for ind in range(num_targets):\n",
    "    for jnd in range(ind + 1, num_targets):\n",
    "        connectivities[ind, jnd] = np.sum(leiden_ids[ind, :] == leiden_ids[jnd, :])\n",
    "        connectivities[jnd, ind] = np.sum(leiden_ids[ind, :] == leiden_ids[jnd, :])"
   ]
  },
  {
   "cell_type": "code",
   "execution_count": null,
   "metadata": {},
   "outputs": [],
   "source": [
    "np.argwhere(connectivities[1, :] > 9).flatten()"
   ]
  },
  {
   "cell_type": "code",
   "execution_count": null,
   "metadata": {},
   "outputs": [],
   "source": [
    "connectivities.max()"
   ]
  },
  {
   "cell_type": "code",
   "execution_count": null,
   "metadata": {},
   "outputs": [],
   "source": [
    "cwv.adata.obs.reset_index(inplace=True)"
   ]
  },
  {
   "cell_type": "code",
   "execution_count": null,
   "metadata": {},
   "outputs": [],
   "source": [
    "cwv.adata.obs['stable_leiden_id'] = np.nan\n",
    "\n",
    "temp_connectivities = connectivities.copy()\n",
    "temp_connectivities = temp_connectivities > 9\n",
    "\n",
    "cluster_id = -1\n",
    "\n",
    "for ind, row in cwv.adata.obs.iterrows():\n",
    "    neighbor_inds = np.argwhere(temp_connectivities[ind, :] > 0).flatten()\n",
    "    if not len(neighbor_inds):\n",
    "        continue\n",
    "        \n",
    "    cluster_id += 1\n",
    "    cwv.adata.obs.at[ind, 'stable_leiden_id'] = cluster_id\n",
    "    for neighbor_ind in neighbor_inds:\n",
    "        cwv.adata.obs.at[neighbor_ind, 'stable_leiden_id'] = cluster_id\n",
    "        temp_connectivities[neighbor_ind, :] = False"
   ]
  },
  {
   "cell_type": "code",
   "execution_count": null,
   "metadata": {},
   "outputs": [],
   "source": [
    "cwv.adata.obs.stable_leiden_id.notna().sum()"
   ]
  },
  {
   "cell_type": "code",
   "execution_count": null,
   "metadata": {},
   "outputs": [],
   "source": [
    "_ = plt.hist(cwv.adata.obs.stable_leiden_id.value_counts(), bins=np.arange(15))\n",
    "_ = plt.hist(cwv.adata.obs.cluster_id_leiden_res30_seed11.value_counts(), bins=np.arange(15), alpha=0.5)"
   ]
  },
  {
   "cell_type": "raw",
   "metadata": {},
   "source": [
    "# deprecated export of the clustering results with the stable_leiden_ids\n",
    "cwv.adata.obs.to_csv(\n",
    "    '/Users/keith.cheveralls/clustering-results/exports/'\n",
    "    '2020-december-results-full-rep3--only-pub-ready--mean-VQ2-vectors--n_pcs=200--n_neighbors=10--stable-leiden-res=30.csv',\n",
    "    index=False\n",
    ")"
   ]
  },
  {
   "cell_type": "code",
   "execution_count": null,
   "metadata": {},
   "outputs": [],
   "source": []
  },
  {
   "cell_type": "markdown",
   "metadata": {},
   "source": [
    "### Are higher-res Leiden clusters contained in single lower-res clusters?\n",
    "\n",
    "Answer: no."
   ]
  },
  {
   "cell_type": "code",
   "execution_count": null,
   "metadata": {},
   "outputs": [],
   "source": [
    "d = cwv.adata.obs\n",
    "low_res = d.cluster_id_leiden_res30_seed10\n",
    "high_res = d.cluster_id_leiden_res30_seed11\n",
    "\n",
    "counts = []\n",
    "for cluster_id in set(high_res):\n",
    "    counts.append(len(set(low_res[high_res == cluster_id])))\n",
    "\n",
    "_ = plt.hist(counts)"
   ]
  },
  {
   "cell_type": "code",
   "execution_count": null,
   "metadata": {},
   "outputs": [],
   "source": [
    "# compare two low-res random seeds\n",
    "cwv.plot_sankey(\n",
    "    ground_truth_label='cluster_id_leiden_res0.5_seed10', \n",
    "    predicted_label='cluster_id_leiden_res0.5_seed13'\n",
    ")"
   ]
  },
  {
   "cell_type": "markdown",
   "metadata": {},
   "source": [
    "### Compare Leiden to agglomerative clustering"
   ]
  },
  {
   "cell_type": "code",
   "execution_count": null,
   "metadata": {},
   "outputs": [],
   "source": [
    "# agglomerative using PCA coords\n",
    "cwv.run_agglomerative(130, method='pca')"
   ]
  },
  {
   "cell_type": "code",
   "execution_count": null,
   "metadata": {},
   "outputs": [],
   "source": [
    "# using 3D UMAP\n",
    "cwv.run_agglomerative(30, method='umap', n_umap_components=3)"
   ]
  },
  {
   "cell_type": "code",
   "execution_count": null,
   "metadata": {},
   "outputs": [],
   "source": [
    "cwh.plot_umap(color_label='leiden', min_dist=0.1)"
   ]
  },
  {
   "cell_type": "code",
   "execution_count": null,
   "metadata": {},
   "outputs": [],
   "source": [
    "cwv.plot_umap(color_label='agg_cluster_id', min_dist=0.1)"
   ]
  },
  {
   "cell_type": "code",
   "execution_count": null,
   "metadata": {},
   "outputs": [],
   "source": [
    "cwv.plot_sankey(ground_truth_label='leiden', predicted_label='agg_cluster_id')"
   ]
  },
  {
   "cell_type": "markdown",
   "metadata": {},
   "source": [
    "### Explore weighted adjacencies"
   ]
  },
  {
   "cell_type": "code",
   "execution_count": null,
   "metadata": {},
   "outputs": [],
   "source": [
    "# create a distance-matrix dataframe\n",
    "cw = cwv\n",
    "labels = cw.adata.obs.copy()\n",
    "index_by = 'target_name'\n",
    "\n",
    "adj = cw.adata.obsp['connectivities'].toarray()\n",
    "df = pd.DataFrame(data=adj, index=labels[index_by], columns=labels[index_by])\n",
    "df.shape"
   ]
  },
  {
   "cell_type": "code",
   "execution_count": null,
   "metadata": {},
   "outputs": [],
   "source": [
    "target = 'MKI67'\n",
    "df[target].sort_values(ascending=False).iloc[:10].sort_values(ascending=False)"
   ]
  },
  {
   "cell_type": "code",
   "execution_count": null,
   "metadata": {},
   "outputs": [],
   "source": [
    "target = 'C4orf32'\n",
    "df[target].sort_values(ascending=False).iloc[:20].sort_values(ascending=False)"
   ]
  },
  {
   "cell_type": "markdown",
   "metadata": {},
   "source": [
    "## Hierarchical clustering of the high-resolution Leiden clusters\n",
    "\n",
    "using the Paris algorithm and the weighted adjacency matrix summed over the high-resolution Leiden clusters."
   ]
  },
  {
   "cell_type": "code",
   "execution_count": null,
   "metadata": {},
   "outputs": [],
   "source": [
    "sc.tl.umap(cwv.adata, min_dist=0, random_state=51)"
   ]
  },
  {
   "cell_type": "code",
   "execution_count": null,
   "metadata": {},
   "outputs": [],
   "source": [
    "sc.pl.umap(cwv.adata, color='label_0', palette='tab10', alpha=0.5)"
   ]
  },
  {
   "cell_type": "code",
   "execution_count": null,
   "metadata": {},
   "outputs": [],
   "source": [
    "# for pub-ready-only, C4orf32 is clustered in a group of three related proteins \n",
    "# only in seed11 and seed18 - in all others, it's with five (two of which unrelated)"
   ]
  },
  {
   "cell_type": "code",
   "execution_count": null,
   "metadata": {},
   "outputs": [],
   "source": [
    "cwv.adata.obs"
   ]
  },
  {
   "cell_type": "code",
   "execution_count": null,
   "metadata": {},
   "outputs": [],
   "source": [
    "cwv.calculate_paris_hierarchy(leiden_cluster_column='cluster_id_leiden_res30_seed18')\n",
    "cwv.full_dendrogram.shape"
   ]
  },
  {
   "cell_type": "code",
   "execution_count": null,
   "metadata": {},
   "outputs": [],
   "source": [
    "cwv.calculate_paris_hierarchy(leiden_cluster_column='stable_leiden_id')\n",
    "cwv.full_dendrogram.shape"
   ]
  },
  {
   "cell_type": "code",
   "execution_count": null,
   "metadata": {},
   "outputs": [],
   "source": [
    "cwv.full_dendrogram.max(axis=0)"
   ]
  },
  {
   "cell_type": "code",
   "execution_count": null,
   "metadata": {},
   "outputs": [],
   "source": [
    "# plot the full dendrogram\n",
    "svg = cwv.plot_full_dendrogram(using='svg')\n",
    "IPython.display.SVG(svg)"
   ]
  },
  {
   "cell_type": "raw",
   "metadata": {},
   "source": [
    "cwv.plot_full_dendrogram(using='sp')\n",
    "plt.savefig(\n",
    "    '/Users/keith.cheveralls/Box/KC-slides/opencell-paris-figure/2021-03-09-full-dendrogram-seed18.svg'\n",
    ")"
   ]
  },
  {
   "cell_type": "code",
   "execution_count": null,
   "metadata": {},
   "outputs": [],
   "source": [
    "# plot the cut dendrogram and the UMAP\n",
    "_ = cwv.plot_dendrogram_umap(cut_threshold=0.20, ground_truth_label='label_0', orientation='left')"
   ]
  },
  {
   "cell_type": "markdown",
   "metadata": {},
   "source": [
    "### Aside: manually drawing the dendrogram"
   ]
  },
  {
   "cell_type": "code",
   "execution_count": null,
   "metadata": {},
   "outputs": [],
   "source": [
    "cut_dendrogram_ids, cut_dendrogram = sknetwork.hierarchy.cut_straight(\n",
    "    cwv.full_dendrogram, threshold=0.5, return_dendrogram=True\n",
    ")"
   ]
  },
  {
   "cell_type": "code",
   "execution_count": null,
   "metadata": {},
   "outputs": [],
   "source": [
    "num_nodes = cut_dendrogram_ids.max()\n",
    "\n",
    "# these are the ids of the merged nodes\n",
    "compound_node_ids = np.arange(num_nodes + 1, num_nodes + cut_dendrogram.shape[0] + 1)\n",
    "\n",
    "# node id and distance for the leaf nodes (distance is zero by definition)\n",
    "leaf_node_data = pd.DataFrame(\n",
    "    data=list(range(num_nodes + 1)), columns=['node_id']\n",
    ")\n",
    "leaf_node_data['kind'] = 'leaf'\n",
    "\n",
    "# the size is not really zero, but the size of the leiden cluster the leaf node corresponds to\n",
    "leaf_node_data['size'] = 0\n",
    "\n",
    "# y position of the leaf nodes is zero by construction\n",
    "# (that is, the leaf nodes all lie on the x-axis)\n",
    "leaf_node_data['y'] = 0\n",
    "leaf_node_data['distance'] = 0\n",
    "\n",
    "compound_node_data = pd.DataFrame(\n",
    "    data=np.concatenate((compound_node_ids[:, None], cut_dendrogram), axis=1), \n",
    "    columns=['node_id', 'child1_id', 'child2_id', 'distance', 'size']\n",
    ")\n",
    "compound_node_data['kind'] = 'compound'\n",
    "\n",
    "# the dataframe of all nodes\n",
    "data = pd.concat((leaf_node_data, compound_node_data), axis=0)\n",
    "data.index = data.node_id\n",
    "\n",
    "# calculate compound node coords from the scipy dendrogram plotting method\n",
    "coords = sp_dendrogram(cut_dendrogram)\n",
    "\n",
    "# the coords returned by the scipy dendrogram method\n",
    "# are not sorted by distance, but the cut_dendrogram array is,\n",
    "# so we need this order to determine the merged_node_id from a row index of the coords\n",
    "order = list(np.argsort(np.array(coords['dcoord'])[:, 1]))\n",
    "\n",
    "for ind in range(len(coords['dcoord'])):\n",
    "    \n",
    "    # the tricky bit: get the compound node id that corresponds to the current row of the coords array\n",
    "    compound_node_id = compound_node_ids[order.index(ind)]\n",
    "\n",
    "    # the horizontal position and 'width' of the compound nodes\n",
    "    # (which is what we needed scipy.dendrogram to calculate for us)\n",
    "    data.at[compound_node_id, 'x'] = np.mean(coords['icoord'][ind])\n",
    "    data.at[compound_node_id, 'width'] = np.max(coords['icoord'][ind]) - np.min(coords['icoord'][ind])\n",
    "\n",
    "    # the vertical position is identical to the node distance\n",
    "    data.at[compound_node_id, 'y'] = coords['dcoord'][ind][1]\n",
    "    \n",
    "    # sanity check - draw the compound node ids on the dendrogram\n",
    "    plt.plot(\n",
    "        data.loc[compound_node_id, 'x'], \n",
    "        data.loc[compound_node_id, 'y'], \n",
    "        'o', \n",
    "        c=coords['color_list'][ind]\n",
    "    )\n",
    "    plt.gca().annotate(\n",
    "        str(compound_node_id), \n",
    "        (data.loc[compound_node_id, 'x'], data.loc[compound_node_id, 'y']), \n",
    "        xytext=(0, -5), \n",
    "        textcoords='offset points', \n",
    "        va='top', \n",
    "        ha='center'\n",
    "    )"
   ]
  },
  {
   "cell_type": "code",
   "execution_count": null,
   "metadata": {},
   "outputs": [],
   "source": [
    "# determine the x position of the leaf nodes\n",
    "for ind, row in data.iterrows():\n",
    "    if row.kind != 'leaf':\n",
    "        continue\n",
    "    child_column = 'child1_id' if ind in data.child1_id.values else 'child2_id'\n",
    "    parent_row = data.loc[data[child_column] == ind].iloc[0]\n",
    "    left_x = parent_row.x - parent_row.width/2\n",
    "    right_x = parent_row.x + parent_row.width/2\n",
    "    if right_x in data.x.values:\n",
    "        data.at[ind, 'x'] = left_x\n",
    "    else:\n",
    "        data.at[ind, 'x'] = right_x"
   ]
  },
  {
   "cell_type": "code",
   "execution_count": null,
   "metadata": {},
   "outputs": [],
   "source": [
    "plt.figure(figsize=(7, 7))\n",
    "for ind, row in data.iterrows():\n",
    "    if row.kind == 'compound':\n",
    "        plt.plot(\n",
    "            [row.x, data.loc[row.child1_id].x],\n",
    "            [row.y, data.loc[row.child1_id].y],\n",
    "            c='#aaa'\n",
    "        )\n",
    "        plt.plot(\n",
    "            [row.x, data.loc[row.child2_id].x],\n",
    "            [row.y, data.loc[row.child2_id].y],\n",
    "            c='#aaa'\n",
    "        )\n",
    "        \n",
    "    plt.plot([row.x], [row.y], 'o', markersize=(row['size']/3 + 3))\n",
    "    plt.gca().annotate(\n",
    "        \"%d\" % row.node_id, \n",
    "        (row.x, row.y), \n",
    "        xytext=((0, 5) if row.kind == 'compound' else (0, -5)),\n",
    "        textcoords='offset points', \n",
    "        va='top', \n",
    "        ha='center',\n",
    "        fontsize=10\n",
    "    )"
   ]
  },
  {
   "cell_type": "markdown",
   "metadata": {},
   "source": [
    "### Aside: construct JSON representations of the dendrogram"
   ]
  },
  {
   "cell_type": "code",
   "execution_count": null,
   "metadata": {},
   "outputs": [],
   "source": [
    "# construct the nested JSON required by d3.hierarchy from the cut dendrogram\n",
    "num_nodes = cut_dendrogram_ids.max()\n",
    "\n",
    "# these are the indices of the merged nodes\n",
    "merged_node_inds = list(np.arange(num_nodes + 1, num_nodes + cut_dendrogram.shape[0] + 1))\n",
    "\n",
    "# this is an array of \n",
    "# (merged_node_ind, child1_node_ind, child2_node_ind, distance, merged_node_size)\n",
    "# dend = np.concatenate((merged_node_inds[:, None], cut_dendrogram), axis=1)\n",
    "\n",
    "def create_node(node_ind):\n",
    "    \n",
    "    # if the node has children\n",
    "    if node_ind in merged_node_inds:\n",
    "        row = cut_dendrogram[merged_node_inds.index(node_ind), :]\n",
    "        child1_node_ind, child2_node_ind, distance, size = row\n",
    "        data = {\n",
    "            'type': 'compound',\n",
    "            'id': int(node_ind),\n",
    "            'size': int(size),\n",
    "            'distance': float(distance),\n",
    "            'children': [create_node(ind) for ind in [child1_node_ind, child2_node_ind]],\n",
    "        }\n",
    "    \n",
    "    # if the node is a leaf (terminal) node\n",
    "    # (size is the number of Leiden clusters in the node)\n",
    "    else:\n",
    "        data = {\n",
    "            'type': 'leaf',\n",
    "            'id': int(node_ind),\n",
    "            'size': len(\n",
    "                cwv.adata.obs.loc[cwv.adata.obs.paris == node_ind][leiden_cluster_column].unique()\n",
    "            ),\n",
    "            'distance': 0,\n",
    "            'children': [],\n",
    "        }\n",
    "    return data\n",
    "\n",
    "result = create_node(max(merged_node_inds))"
   ]
  },
  {
   "cell_type": "code",
   "execution_count": null,
   "metadata": {},
   "outputs": [],
   "source": [
    "# JSON string to copy to observable notebooks\n",
    "json.dumps(result)"
   ]
  },
  {
   "cell_type": "code",
   "execution_count": null,
   "metadata": {},
   "outputs": [],
   "source": [
    "nodes = []\n",
    "edges = []\n",
    "\n",
    "def flatten_node(node):\n",
    "    ind = node['ind']\n",
    "    nodes.append({'id': ind, 'size': node['size']})\n",
    "    for child_node in node['children']:\n",
    "        edges.append({\n",
    "            'source': ind, \n",
    "            'target': child_node['ind'],\n",
    "            'distance': node['distance'] - child_node['distance'],\n",
    "        })\n",
    "        flatten_node(child_node)\n",
    "        \n",
    "flatten_node(result)"
   ]
  },
  {
   "cell_type": "code",
   "execution_count": null,
   "metadata": {},
   "outputs": [],
   "source": [
    "# json dump for d3 force-directed network layout\n",
    "json.dumps({'nodes': nodes, 'links': edges})"
   ]
  },
  {
   "cell_type": "code",
   "execution_count": null,
   "metadata": {},
   "outputs": [],
   "source": []
  },
  {
   "cell_type": "code",
   "execution_count": null,
   "metadata": {},
   "outputs": [],
   "source": []
  },
  {
   "cell_type": "markdown",
   "metadata": {},
   "source": [
    "## Exports for the dash app (for 2020-december results)\n",
    "This is for reference only and documents how the mass-spec clusters were merged with the target_labels dataframe used by the dash app."
   ]
  },
  {
   "cell_type": "raw",
   "metadata": {},
   "source": [
    "# merge the mass-spec clusters\n",
    "target_labels = target_labels.merge(ms_clusters, how='left', on='cell_line_id')\n",
    "\n",
    "# drop small core complexes\n",
    "n = target_labels.core_complex_id.value_counts()\n",
    "target_labels.loc[\n",
    "    target_labels.core_complex_id.isin(n.loc[n < 10].index), 'core_complex_id'\n",
    "] = np.nan\n",
    "\n",
    "# drop small superclusters\n",
    "n = target_labels.supercluster_id.value_counts()\n",
    "target_labels.loc[\n",
    "    target_labels.supercluster_id.isin(n.loc[n < 10].index), 'supercluster_id'\n",
    "] = np.nan"
   ]
  },
  {
   "cell_type": "markdown",
   "metadata": {},
   "source": [
    "## Export the adata objects for creating gridded UMAPs"
   ]
  },
  {
   "cell_type": "code",
   "execution_count": null,
   "metadata": {},
   "outputs": [],
   "source": [
    "res = model_results.ModelResults.load_december_results(\n",
    "    root_dirpath='/Users/keith.cheveralls/clustering-results/', dataset='full'\n",
    ")"
   ]
  },
  {
   "cell_type": "code",
   "execution_count": null,
   "metadata": {},
   "outputs": [],
   "source": [
    "# for vectors\n",
    "adata = res.export_adata(vq='vq2', kind='vectors', using='median')\n",
    "adata.write_h5ad(\n",
    "    '/Users/keith.cheveralls/image-data/december-results-full-median-vq2-target-vectors-adata.h5ad'\n",
    ")"
   ]
  },
  {
   "cell_type": "code",
   "execution_count": null,
   "metadata": {},
   "outputs": [],
   "source": [
    "adata = ad.read_h5ad(\n",
    "    '/Users/keith.cheveralls/image-data/december-results-full-median-vq2-target-vectors-adata.h5ad'\n",
    ")"
   ]
  },
  {
   "cell_type": "code",
   "execution_count": null,
   "metadata": {},
   "outputs": [],
   "source": []
  }
 ],
 "metadata": {
  "kernelspec": {
   "display_name": "scanpyenv",
   "language": "python",
   "name": "scanpyenv"
  },
  "language_info": {
   "codemirror_mode": {
    "name": "ipython",
    "version": 3
   },
   "file_extension": ".py",
   "mimetype": "text/x-python",
   "name": "python",
   "nbconvert_exporter": "python",
   "pygments_lexer": "ipython3",
   "version": "3.7.9"
  }
 },
 "nbformat": 4,
 "nbformat_minor": 2
}
