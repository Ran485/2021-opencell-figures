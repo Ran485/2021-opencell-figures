{
 "cells": [
  {
   "cell_type": "markdown",
   "metadata": {},
   "source": [
    "## Generate the localization-based UMAP, Leiden clusters, and hierarchy\n",
    "\n",
    "This notebook documents the generation of the figures related to localization-based clustering. This includes the target UMAP, the Leiden clustering, the hierarchical clustering of the Leiden clusters (using the Paris algorithm), GO term enrichment analysis, and the matrix of localization similarities."
   ]
  },
  {
   "cell_type": "code",
   "execution_count": null,
   "metadata": {},
   "outputs": [],
   "source": [
    "import anndata as ad\n",
    "import numpy as np\n",
    "import pandas as pd\n",
    "import pathlib\n",
    "import scanpy as sc\n",
    "import seaborn as sns\n",
    "import sys\n",
    "import os\n",
    "\n",
    "from matplotlib import pyplot as plt\n",
    "from matplotlib import rcParams\n",
    "\n",
    "%load_ext autoreload\n",
    "%autoreload 1\n",
    "\n",
    "sys.path.append('../../')\n",
    "%aimport scripts.cytoself_analysis.clustering_workflows\n",
    "from scripts.cytoself_analysis import clustering_workflows, go_utils\n",
    "\n",
    "sc.settings.set_figure_params(dpi=80, facecolor='white', frameon=False)\n",
    "rcParams['font.family'] = 'sans-serif'\n",
    "rcParams['axes.grid'] = False"
   ]
  },
  {
   "cell_type": "code",
   "execution_count": null,
   "metadata": {},
   "outputs": [],
   "source": [
    "data_dir = pathlib.Path('../../data/')\n",
    "output_dir = pathlib.Path(\n",
    "    '/Users/keith.cheveralls/Box/KC-opencell-paper/image-based-clustering/'\n",
    ")\n",
    "\n",
    "def timestamp():\n",
    "    return datetime.datetime.now().strftime('%Y-%m-%d')"
   ]
  },
  {
   "cell_type": "markdown",
   "metadata": {},
   "source": [
    "### Load the adata object of target localization encodings\n",
    "This anndata object includes results of preprocessing: the 200 PCs, kNN matrix, and UMAP coords. The generation of this object is documented in the notebook `generate-localization-encoding.ipynb` and it can be downloaded from Figshare [here](https://figshare.com/articles/dataset/Consensus_protein_localization_encodings_for_all_OpenCell_targets/16754965). "
   ]
  },
  {
   "cell_type": "code",
   "execution_count": null,
   "metadata": {},
   "outputs": [],
   "source": [
    "adata = ad.read_h5ad(data_dir / 'figshare' / 'final-opencell-target-localization-encodings.h5ad')\n",
    "cwv = clustering_workflows.ClusteringWorkflow(adata=adata)"
   ]
  },
  {
   "cell_type": "markdown",
   "metadata": {},
   "source": [
    "### UMAP of target localization encodings"
   ]
  },
  {
   "cell_type": "code",
   "execution_count": null,
   "metadata": {},
   "outputs": [],
   "source": [
    "sc.pl.umap(cwv.adata, color='grade_3_annotation', palette='tab10', alpha=0.5)"
   ]
  },
  {
   "cell_type": "markdown",
   "metadata": {},
   "source": [
    "### Leiden clustering"
   ]
  },
  {
   "cell_type": "code",
   "execution_count": null,
   "metadata": {},
   "outputs": [],
   "source": [
    "# use three resolutions: high-res clusters at res = 30,\n",
    "# plus the optimal low-res and intermediate-res clusters\n",
    "# (from the ARI curves calculated in the clustering-performance notebook)\n",
    "resolutions = [0.631, 6.31, 30]\n",
    "\n",
    "# we use seed = 18\n",
    "seeds = [17, 18, 19]"
   ]
  },
  {
   "cell_type": "code",
   "execution_count": null,
   "metadata": {},
   "outputs": [],
   "source": [
    "# range of random seeds and range of resolutions\n",
    "for resolution in resolutions: \n",
    "    for seed in seeds:\n",
    "        cwv.run_leiden(\n",
    "            resolution=resolution, \n",
    "            random_state=seed, \n",
    "            key_added='cluster_id_leiden_res%s_seed%s' % (resolution, seed)\n",
    "        )"
   ]
  },
  {
   "cell_type": "markdown",
   "metadata": {},
   "source": [
    "### Paris hierarchy from the Leiden clusters\n",
    "This uses the Leiden clusters at resolution of 30 with random seed 18."
   ]
  },
  {
   "cell_type": "code",
   "execution_count": null,
   "metadata": {},
   "outputs": [],
   "source": [
    "cwv.calculate_paris_hierarchy(\n",
    "    leiden_cluster_column='cluster_id_leiden_res30_seed18', shuffled=False\n",
    ")\n",
    "cwv.full_dendrogram.shape"
   ]
  },
  {
   "cell_type": "code",
   "execution_count": null,
   "metadata": {},
   "outputs": [],
   "source": [
    "# plot the dendrogram and labeled UMAP at a given cut\n",
    "_ = cwv.plot_dendrogram_umap(\n",
    "    cut_threshold=0.2, ground_truth_label='label_0', orientation='left'\n",
    ")"
   ]
  },
  {
   "cell_type": "code",
   "execution_count": null,
   "metadata": {},
   "outputs": [],
   "source": [
    "# export the full dendrogram in SVG format\n",
    "cwv.plot_full_dendrogram(using='sp')\n",
    "plt.savefig(output_dir / 'opencell-paris-figure' / ('%s-full-dendrogram-seed18.svg') % timestamp())"
   ]
  },
  {
   "cell_type": "code",
   "execution_count": null,
   "metadata": {},
   "outputs": [],
   "source": [
    "# export the dendrogram-UMAP plot in SVG format\n",
    "# (the cut_threshold value was changed manually for each of the three cuts)\n",
    "cut_threshold = 1.5\n",
    "fig = cwv.plot_dendrogram_umap(cut_threshold=cut_threshold)\n",
    "fig.savefig(\n",
    "    output_dir /\n",
    "    'opencell-paris-figure' /\n",
    "    ('%s-dendrogram-and-umap-for-paris-hierarchy-cut-at-%s.svg' % (timestamp(), cut_threshold))\n",
    ")"
   ]
  },
  {
   "cell_type": "code",
   "execution_count": null,
   "metadata": {},
   "outputs": [],
   "source": [
    "# export the UMAPs colored by paris clusters for the two cuts\n",
    "# (note that the export format must be SVG in order for the scatterplot dots \n",
    "# to be grouped by cluster in affinity designer)\n",
    "\n",
    "fig, axs = plt.subplots(1, 3, figsize=(15, 4))\n",
    "cut_thresholds = [1.5, 0.2]\n",
    "cmap = sns.color_palette('tab20')\n",
    "\n",
    "for ind in range(len(cut_thresholds)):\n",
    "    ax = axs[ind]\n",
    "    cwv.cut_dendrogram(cut_thresholds[ind])\n",
    "    obs = cwv.adata.obs.copy()\n",
    "    for ind, cluster_id in enumerate(obs.cut_dendrogram_cluster_id.unique()):\n",
    "        mask = obs.cut_dendrogram_cluster_id == cluster_id\n",
    "        ax.scatter(\n",
    "            *cwv.adata.obsm['X_umap'][mask, :].transpose(), \n",
    "            alpha=0.5, \n",
    "            color=cmap[ind], \n",
    "            label=cluster_id\n",
    "        )\n",
    "    ax.legend()\n",
    "\n",
    "if False:\n",
    "    plt.savefig(output_dir / 'opencell-paris-figure' / ('%s-target-umap-both-cuts.pdf' % timestamp()))"
   ]
  },
  {
   "cell_type": "markdown",
   "metadata": {},
   "source": [
    "### Export the UMAP coordinates and cluster ids\n",
    "\n",
    "This includes the Leiden clusters (for resolution 30 and seed 18), the optimal low-res and intermediate-res Leiden clusters, the branch and module ids from the two Paris hierarchy cuts, and the UMAP coords (for see 51)."
   ]
  },
  {
   "cell_type": "code",
   "execution_count": null,
   "metadata": {},
   "outputs": [],
   "source": [
    "excel_file = pd.ExcelWriter(output_dir / ('%s-image-based-clustering.xlsx') % timestamp())"
   ]
  },
  {
   "cell_type": "code",
   "execution_count": null,
   "metadata": {},
   "outputs": [],
   "source": [
    "# map from branch and module ids to those used in Fig S10 (this was defined by hand)\n",
    "figure_module_ids = ['N%d' % ind for ind in range(1, 20)]\n",
    "ordered_raw_module_ids = [0, 16, 9, 4, 12, 1, 3, 6, 5, 10, 15, 7, 18, 2, 8, 17, 13, 11, 14][::-1]\n",
    "\n",
    "raw_to_figure_ids = {\n",
    "    'branches': {0: '2', 1: '1', 2: '3'},\n",
    "    'modules': dict(zip(ordered_raw_module_ids, figure_module_ids)),\n",
    "}"
   ]
  },
  {
   "cell_type": "code",
   "execution_count": null,
   "metadata": {},
   "outputs": [],
   "source": [
    "# append the branch and module ids to adata.obs\n",
    "_ = cwv.cut_dendrogram(1.5, key_added='hierarchy_branch_id')\n",
    "_ = cwv.cut_dendrogram(0.2, key_added='hierarchy_module_id')"
   ]
  },
  {
   "cell_type": "code",
   "execution_count": null,
   "metadata": {},
   "outputs": [],
   "source": [
    "target_labels = cwv.adata.obs.copy()\n",
    "\n",
    "umap_coords = cwv.adata.obsm['X_umap']\n",
    "target_labels['umap_0'] = umap_coords[:, 0]\n",
    "target_labels['umap_1'] = umap_coords[:, 1]\n",
    "\n",
    "# rename the branch and module ids to those used in Fig S10\n",
    "target_labels.hierarchy_branch_id.replace(to_replace=raw_to_figure_ids['branches'], inplace=True)\n",
    "target_labels.hierarchy_module_id.replace(to_replace=raw_to_figure_ids['modules'], inplace=True)"
   ]
  },
  {
   "cell_type": "code",
   "execution_count": null,
   "metadata": {},
   "outputs": [],
   "source": [
    "target_labels.hierarchy_branch_id.unique(), target_labels.hierarchy_module_id.unique()"
   ]
  },
  {
   "cell_type": "code",
   "execution_count": null,
   "metadata": {},
   "outputs": [],
   "source": [
    "target_labels.rename(\n",
    "    columns={\n",
    "        'cluster_id_leiden_res0.631_seed18': 'low_res_leiden_clusters',\n",
    "        'cluster_id_leiden_res6.31_seed18': 'intermed_res_leiden_clusters',\n",
    "        'cluster_id_leiden_res30_seed18': 'high_res_leiden_clusters',\n",
    "    },\n",
    "    inplace=True\n",
    ")"
   ]
  },
  {
   "cell_type": "code",
   "execution_count": null,
   "metadata": {},
   "outputs": [],
   "source": [
    "# drop unneeded columns\n",
    "target_labels = target_labels[[\n",
    "    'cell_line_id', \n",
    "    'ensg_id',\n",
    "    'target_name',  \n",
    "    'umap_0', \n",
    "    'umap_1', \n",
    "    'low_res_leiden_clusters',\n",
    "    'intermed_res_leiden_clusters',\n",
    "    'high_res_leiden_clusters', \n",
    "    'hierarchy_branch_id', \n",
    "    'hierarchy_module_id'\n",
    "]]"
   ]
  },
  {
   "cell_type": "code",
   "execution_count": null,
   "metadata": {},
   "outputs": [],
   "source": [
    "target_labels.to_excel(excel_file, sheet_name='cluster-ids', index=False)"
   ]
  },
  {
   "cell_type": "markdown",
   "metadata": {},
   "source": [
    "### Enriched GO terms in the Leiden clusters, modules, and branches\n",
    "\n",
    "This is done using the Panther API. These cells are run separately and manually for the three cluster_id columns: cluster_id_leiden_res30_seed18, hierarchy_branch_id, hierarchy_module_id. Note that this is quite slow. "
   ]
  },
  {
   "cell_type": "code",
   "execution_count": null,
   "metadata": {},
   "outputs": [],
   "source": [
    "# sanity-check\n",
    "obs = cwv.adata.obs.copy()\n",
    "target_names = sorted(obs.loc[obs.hierarchy_module_id == 6]['target_name'].unique())\n",
    "results = go_utils.query_panther(target_names, reference_target_names=obs.target_name.unique())\n",
    "results.head(5)"
   ]
  },
  {
   "cell_type": "code",
   "execution_count": null,
   "metadata": {},
   "outputs": [],
   "source": [
    "obs = cwv.adata.obs.copy()\n",
    "all_target_names = obs.target_name.unique()\n",
    "\n",
    "# cluster_id_column, label = 'cluster_id_leiden_res30_seed18', 'leiden-res30-seed18'\n",
    "# cluster_id_column, label = 'hierarchy_branch_id', 'branches'\n",
    "cluster_id_column, label = 'hierarchy_module_id', 'modules'\n",
    "\n",
    "all_query_results = []\n",
    "for cluster_id in obs[cluster_id_column].unique():\n",
    "    print(cluster_id)\n",
    "    \n",
    "    target_names = np.array(sorted(\n",
    "        obs.loc[obs[cluster_id_column] == cluster_id]['target_name'].unique()\n",
    "    ))\n",
    "    \n",
    "    for dataset_kind in ['cc', 'bp', 'mf']:\n",
    "        try:\n",
    "            query_results = go_utils.query_panther(\n",
    "                target_names, \n",
    "                reference_target_names=all_target_names, \n",
    "                dataset_kind=dataset_kind\n",
    "            )\n",
    "        except Exception:\n",
    "            print('API error on paris_cluster_id %s' % paris_cluster_id)\n",
    "            continue\n",
    "\n",
    "        query_results['cluster_id'] = cluster_id\n",
    "        query_results['cluster_size'] = len(target_names)\n",
    "        query_results['go_annotations_type'] = dataset_kind\n",
    "\n",
    "        all_query_results.append(query_results)\n",
    "\n",
    "(\n",
    "    pd.concat(tuple(all_query_results), axis=0)\n",
    "    .loc[df.pValue < 0.1]\n",
    "    .to_csv(\n",
    "        output_dir / ('%s-panther-go-enrichment-for-%s.csv' % (timestamp(), label)),\n",
    "        index=False\n",
    "    )\n",
    ")"
   ]
  },
  {
   "cell_type": "markdown",
   "metadata": {},
   "source": [
    "### Clean up and export the GO enrichment results\n",
    "\n",
    "This uses the raw enrichment results generated above. Non-ssignificantly-enriched terms are filtered out, columns are renamed, and the results written to the excel file created above. "
   ]
  },
  {
   "cell_type": "code",
   "execution_count": null,
   "metadata": {},
   "outputs": [],
   "source": [
    "# clean up the GO enrichment CSVs\n",
    "max_p_value = 0.01\n",
    "min_fold_enrichment = 2\n",
    "\n",
    "columns = [\n",
    "    'cluster_id', \n",
    "    'go_annotations_type', \n",
    "    'go_term_id',\n",
    "    'go_term_label',\n",
    "    'cluster_size',\n",
    "    'number_in_list',\n",
    "    'fold_enrichment', \n",
    "    'pValue'\n",
    "]\n",
    "\n",
    "go_annotations_names = {\n",
    "    'cc': 'cellular_component',\n",
    "    'bp': 'biological_process',\n",
    "    'mf': 'molecular_function',\n",
    "}\n",
    "\n",
    "column_renaming = {'pValue': 'p_value', 'number_in_list': 'go_term_count'}\n",
    "\n",
    "cluster_kinds = ['branches', 'modules', 'leiden-res30-seed18']\n",
    "for cluster_kind in cluster_kinds:\n",
    "\n",
    "    df = pd.read_csv(\n",
    "        output_dir / ('2021-09-29-panther-go-enrichment-for-%s.csv' % cluster_kind)\n",
    "    )\n",
    "    \n",
    "    # replace the abbreviated annotation types\n",
    "    df.go_annotations_type.replace(to_replace=go_annotations_names, inplace=True)\n",
    "    \n",
    "    # replace the branch and module cluster_ids with those used in the figures\n",
    "    id_mapping = raw_to_figure_ids.get(cluster_kind)\n",
    "    if id_mapping is not None:\n",
    "        df.cluster_id.replace(to_replace=id_mapping, inplace=True)\n",
    "    \n",
    "    # replace the GO dataset kinds\n",
    "    \n",
    "    df = (\n",
    "        df[columns]\n",
    "        .loc[(df.pValue < max_p_value) & (df.fold_enrichment > min_fold_enrichment)]\n",
    "        .sort_values(by=['cluster_id', 'go_annotations_type', 'pValue'], ascending=True)\n",
    "        .rename(columns=column_renaming)\n",
    "    )\n",
    "    df.to_excel(\n",
    "        excel_file,\n",
    "        sheet_name=('GO-enrichment-%s' % cluster_kind),\n",
    "        index=False\n",
    "    )"
   ]
  },
  {
   "cell_type": "code",
   "execution_count": null,
   "metadata": {},
   "outputs": [],
   "source": [
    "# manually close the excel file\n",
    "excel_file.close()"
   ]
  },
  {
   "cell_type": "code",
   "execution_count": null,
   "metadata": {},
   "outputs": [],
   "source": [
    "df.sort_values(by='pValue', ascending=True)"
   ]
  },
  {
   "cell_type": "code",
   "execution_count": null,
   "metadata": {},
   "outputs": [],
   "source": [
    "df.loc[df.pValue < 0.001].go_term_label.value_counts().head(11)"
   ]
  },
  {
   "cell_type": "markdown",
   "metadata": {},
   "source": [
    "### Calculate the matrix of target-target localization similarities\n",
    "\n",
    "This matrix is a distance matrix calculated from the target localization encodings, using the correlation distance metric. "
   ]
  },
  {
   "cell_type": "code",
   "execution_count": null,
   "metadata": {},
   "outputs": [],
   "source": [
    "dists = cwv.calculate_distance_matrix(metric='correlation', n_pcs=200)"
   ]
  },
  {
   "cell_type": "code",
   "execution_count": null,
   "metadata": {},
   "outputs": [],
   "source": [
    "_ = plt.hist(dists.flatten(), bins=100)"
   ]
  },
  {
   "cell_type": "code",
   "execution_count": null,
   "metadata": {},
   "outputs": [],
   "source": [
    "# create a distance-matrix dataframe\n",
    "index_by = 'target_name'\n",
    "labels = cwv.adata.obs.copy()\n",
    "df = pd.DataFrame(data=dists, index=labels[index_by], columns=labels[index_by])\n",
    "df.shape"
   ]
  },
  {
   "cell_type": "code",
   "execution_count": null,
   "metadata": {},
   "outputs": [],
   "source": [
    "# print the list of closest targets\n",
    "', '.join(\n",
    "    df['C4orf32']\n",
    "    .sort_values(ascending=False)\n",
    "    .iloc[:10]\n",
    "    .sort_values(ascending=False)\n",
    "    .index\n",
    "    .tolist()\n",
    ")"
   ]
  },
  {
   "cell_type": "code",
   "execution_count": null,
   "metadata": {},
   "outputs": [],
   "source": [
    "df = df.applymap(lambda v: np.round(v, decimals=3))"
   ]
  },
  {
   "cell_type": "code",
   "execution_count": null,
   "metadata": {},
   "outputs": [],
   "source": [
    "# export the distances from each target to the orphan FAM241A\n",
    "df['C4orf32'].to_csv(\n",
    "    output_dir / \n",
    "    'opencell-paris-figure' /\n",
    "    ('%s_vq2-vector-%s-distances-200-PCs-pub-ready-only.csv' % (timestamp(), 'correlation'))\n",
    ")"
   ]
  },
  {
   "cell_type": "code",
   "execution_count": null,
   "metadata": {},
   "outputs": [],
   "source": []
  }
 ],
 "metadata": {
  "interpreter": {
   "hash": "11e5ce0ee6de4582bc9062d68025989ac418ccb60274c44a864372627d526c8a"
  },
  "kernelspec": {
   "display_name": "scanpyenv",
   "language": "python",
   "name": "scanpyenv"
  },
  "language_info": {
   "codemirror_mode": {
    "name": "ipython",
    "version": 3
   },
   "file_extension": ".py",
   "mimetype": "text/x-python",
   "name": "python",
   "nbconvert_exporter": "python",
   "pygments_lexer": "ipython3",
   "version": "3.7.9"
  }
 },
 "nbformat": 4,
 "nbformat_minor": 4
}
