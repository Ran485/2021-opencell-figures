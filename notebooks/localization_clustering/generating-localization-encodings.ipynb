{
 "cells": [
  {
   "cell_type": "markdown",
   "metadata": {},
   "source": [
    "## Generating the matrix of OpenCell target localization encodings\n",
    "\n",
    "__Keith Cheveralls__<br>\n",
    "__October 2021__\n",
    "\n",
    "This notebook documents the generation of the matrix of OpenCell target localization encodings. This matrix is encapsulated by an [anndata](https://anndata.readthedocs.io/en/latest/) object that is used in the `clustering-figures` and `clustering-performance` notebooks. The final version of this object used for the 2021-opencell paper can be downloaded [here](https://figshare.com/articles/dataset/Consensus_protein_localization_encodings_for_all_OpenCell_targets/16754965).\n",
    "\n",
    "Note: the generation of the target localization encodings here depends on a trained cytoself model, which is not part of the OpenCell project itself. Please refer to [the cytoself project](https://github.com/royerlab/cytoself) for more information. \n",
    "\n",
    "Internal note: construction of the adata object depends on filtering out targets that are not publication-ready. This is done at the very beginning of the processing (i.e., before the kNN matrix is calculated), so everything (both UMAP and clusters) depends on it. The filtering is done using the publication_ready annotations in a cache of the /lines endpoint from the opencell API. This was a point of fragility in the original analysis, because there was no versioning or even timestamp associated with the cache, and no way to know which cache was used for which figures/exports. On 2021-06-09, I generated a new, final cache and manually verified that the publication_ready annotations in this cached payload are the same as they were back in March 2021."
   ]
  },
  {
   "cell_type": "code",
   "execution_count": null,
   "metadata": {},
   "outputs": [],
   "source": [
    "import anndata as ad\n",
    "import numpy as np\n",
    "import pandas as pd\n",
    "import scanpy as sc\n",
    "import seaborn as sns\n",
    "import sys\n",
    "import os\n",
    "\n",
    "%load_ext autoreload\n",
    "%autoreload 1\n",
    "\n",
    "sys.path.append('../../')\n",
    "%aimport scripts.cytoself_analysis.clustering_workflows\n",
    "from scripts.cytoself_analysis import (\n",
    "    loaders, clustering_workflows, ground_truth_labels\n",
    ")\n",
    "\n",
    "sc.settings.set_figure_params(dpi=80, facecolor='white', frameon=False)"
   ]
  },
  {
   "cell_type": "code",
   "execution_count": null,
   "metadata": {},
   "outputs": [],
   "source": [
    "# the expected number of OpenCell targets in the dataset\n",
    "num_targets = 1294\n",
    "\n",
    "# the expected dimensionality of the VQ2 vectors \n",
    "# (that is, the localization encodings)\n",
    "num_vq2_features = 12 * 12 * 64\n",
    "\n",
    "# the expected number of patches in the test dataset\n",
    "num_test_patches = 109995"
   ]
  },
  {
   "cell_type": "markdown",
   "metadata": {
    "tags": []
   },
   "source": [
    "### Load the cytoself model results\n",
    "\n",
    "These results include the arrays of image-patch encodings (from both the VQ1 and VQ2 layers) from the test dataset used in training the cytoself model. "
   ]
  },
  {
   "cell_type": "code",
   "execution_count": null,
   "metadata": {},
   "outputs": [],
   "source": [
    "clustering_results_dirpath = '/Users/keith.cheveralls/clustering-results'\n",
    "results = loaders.load_december_results(\n",
    "    root_dirpath=clustering_results_dirpath, dataset='full', rep=3\n",
    ")"
   ]
  },
  {
   "cell_type": "code",
   "execution_count": null,
   "metadata": {},
   "outputs": [],
   "source": [
    "# concatenate the C4orf32 orphan\n",
    "results.concatenate_orphans()"
   ]
  },
  {
   "cell_type": "code",
   "execution_count": null,
   "metadata": {},
   "outputs": [],
   "source": [
    "assert results.test_labels.shape[0] == num_test_patches\n",
    "results.test_labels.shape, results.test_vq2.shape, results.test_vq2_ind.shape"
   ]
  },
  {
   "cell_type": "markdown",
   "metadata": {},
   "source": [
    "### Merge OpenCell annotations\n",
    "This uses a cache of the /lines endpoint from the OpenCell API, and is needed to filter out non-publication-ready targets from the results."
   ]
  },
  {
   "cell_type": "code",
   "execution_count": null,
   "metadata": {},
   "outputs": [],
   "source": [
    "results.test_labels = ground_truth_labels.merge_all(\n",
    "    df=results.test_labels, data_dirpath=os.path.abspath('../../data')\n",
    ")"
   ]
  },
  {
   "cell_type": "markdown",
   "metadata": {},
   "source": [
    "### Export the matrix of consensus (patch-averaged) target encodings\n",
    "\n",
    "This constructs an `anndata` object that represents the consensus localization encodings for each OpenCell target. These encodings are the flattened VQ2 vectors, averaged over all patches for each target. "
   ]
  },
  {
   "cell_type": "code",
   "execution_count": null,
   "metadata": {},
   "outputs": [],
   "source": [
    "adata = results.export_adata(\n",
    "    vq='vq2', kind='vectors', using='mean', rerun=True, pub_ready_only=True\n",
    ")\n",
    "\n",
    "assert adata.obs.shape[0] == num_targets"
   ]
  },
  {
   "cell_type": "markdown",
   "metadata": {},
   "source": [
    "### Create the `ClusteringWorkflow` instance\n",
    "\n",
    "The `ClusteringWorkflow` instance is used here only to minimally preprocess the raw target localization encodings (by using PCA to reduce dimensionality from 9216 to 200) and then to calculate the matrix of nearest neighbors (which is later used for both the UMAP embedding and the Leiden clustering)."
   ]
  },
  {
   "cell_type": "code",
   "execution_count": null,
   "metadata": {},
   "outputs": [],
   "source": [
    "cwv = clustering_workflows.ClusteringWorkflow(adata=adata)\n",
    "\n",
    "# preprocess the VQ2 features and calculate the principal components\n",
    "cwv.preprocess(do_log1p=False, do_scaling=False, n_top_genes=None, n_pcs=200)\n",
    "\n",
    "# calculate the kNN matrix\n",
    "cwv.calculate_neighbors(n_neighbors=10, n_pcs=200, metric='euclidean')"
   ]
  },
  {
   "cell_type": "code",
   "execution_count": null,
   "metadata": {},
   "outputs": [],
   "source": [
    "assert cwv.adata.X.shape[0] == num_targets\n",
    "assert cwv.adata.X.shape[1] == num_vq2_features"
   ]
  },
  {
   "cell_type": "markdown",
   "metadata": {},
   "source": [
    "### The target UMAP\n",
    "This generate the UMAP of localization encodings shown in Figures 3 and 4 (among others). "
   ]
  },
  {
   "cell_type": "code",
   "execution_count": null,
   "metadata": {},
   "outputs": [],
   "source": [
    "# the publication UMAP uses a random seed of 51 and a min_dist of zero\n",
    "sc.tl.umap(cwv.adata, init_pos='spectral', min_dist=0.0, random_state=51)"
   ]
  },
  {
   "cell_type": "code",
   "execution_count": null,
   "metadata": {},
   "outputs": [],
   "source": [
    "sc.pl.umap(cwv.adata, color='grade_3_annotation', palette='tab10', alpha=0.5)"
   ]
  },
  {
   "cell_type": "markdown",
   "metadata": {},
   "source": [
    "### Export the `anndata` object\n",
    "\n",
    "This object is used for further analysis in the `clustering-figures` and `clustering-performance` notebooks, and is identical to the object available on Figshare [here](https://figshare.com/articles/dataset/Consensus_protein_localization_encodings_for_all_OpenCell_targets/16754965). "
   ]
  },
  {
   "cell_type": "code",
   "execution_count": null,
   "metadata": {},
   "outputs": [],
   "source": [
    "# drop unused/internal metadata columns\n",
    "cwv.adata.obs.drop(labels=['plate_id', 'well_id', 'oc_categories'], axis=1, inplace=True)"
   ]
  },
  {
   "cell_type": "code",
   "execution_count": null,
   "metadata": {},
   "outputs": [],
   "source": [
    "adata_filepath = '../../data/figshare/final-opencell-target-localization-encodings.h5ad'\n",
    "cwv.adata.write_h5ad(adata_filepath)"
   ]
  },
  {
   "cell_type": "code",
   "execution_count": null,
   "metadata": {},
   "outputs": [],
   "source": []
  }
 ],
 "metadata": {
  "kernelspec": {
   "display_name": "scanpyenv",
   "language": "python",
   "name": "scanpyenv"
  },
  "language_info": {
   "codemirror_mode": {
    "name": "ipython",
    "version": 3
   },
   "file_extension": ".py",
   "mimetype": "text/x-python",
   "name": "python",
   "nbconvert_exporter": "python",
   "pygments_lexer": "ipython3",
   "version": "3.7.9"
  }
 },
 "nbformat": 4,
 "nbformat_minor": 4
}
